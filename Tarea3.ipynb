{
  "nbformat": 4,
  "nbformat_minor": 0,
  "metadata": {
    "colab": {
      "name": "Tarea3.ipynb",
      "provenance": [],
      "collapsed_sections": [],
      "toc_visible": true,
      "authorship_tag": "ABX9TyNIqAtQRMSsXu5A73c9QG6b",
      "include_colab_link": true
    },
    "kernelspec": {
      "name": "python3",
      "display_name": "Python 3"
    },
    "language_info": {
      "name": "python"
    }
  },
  "cells": [
    {
      "cell_type": "markdown",
      "metadata": {
        "id": "view-in-github",
        "colab_type": "text"
      },
      "source": [
        "<a href=\"https://colab.research.google.com/github/arturoTellez/AA_MCIC/blob/main/Tarea3.ipynb\" target=\"_parent\"><img src=\"https://colab.research.google.com/assets/colab-badge.svg\" alt=\"Open In Colab\"/></a>"
      ]
    },
    {
      "cell_type": "code",
      "metadata": {
        "colab": {
          "base_uri": "https://localhost:8080/"
        },
        "id": "68GccJk7Lfq7",
        "outputId": "735fee8e-5421-4010-ccc9-12a62a262bbc"
      },
      "source": [
        "### Cargamos el paquete para gráficar datos hecho por mí\n",
        "!git clone https://github.com/arturoTellez/analisis_descriptivo_tools.git\n"
      ],
      "execution_count": null,
      "outputs": [
        {
          "output_type": "stream",
          "text": [
            "Cloning into 'analisis_descriptivo_tools'...\n",
            "remote: Enumerating objects: 10, done.\u001b[K\n",
            "remote: Counting objects: 100% (10/10), done.\u001b[K\n",
            "remote: Compressing objects: 100% (10/10), done.\u001b[K\n",
            "remote: Total 10 (delta 1), reused 6 (delta 0), pack-reused 0\u001b[K\n",
            "Unpacking objects: 100% (10/10), done.\n"
          ],
          "name": "stdout"
        }
      ]
    },
    {
      "cell_type": "code",
      "metadata": {
        "id": "IckVKqmQLpGa"
      },
      "source": [
        "import sys\n",
        "sys.path.append(\"analisis_descriptivo_tools\")\n",
        "from describe_tools import graficar_variables"
      ],
      "execution_count": null,
      "outputs": []
    },
    {
      "cell_type": "code",
      "metadata": {
        "id": "AGpjH1YKs1U5"
      },
      "source": [
        "import matplotlib.pyplot as plt\n",
        "import numpy as np\n",
        "import seaborn as sns\n",
        "from sklearn.datasets import load_boston\n",
        "import pandas as pd"
      ],
      "execution_count": null,
      "outputs": []
    },
    {
      "cell_type": "code",
      "metadata": {
        "id": "OQwekYN6aBT2"
      },
      "source": [
        "np.random.seed(100)\n"
      ],
      "execution_count": null,
      "outputs": []
    },
    {
      "cell_type": "markdown",
      "metadata": {
        "id": "C0JlKTnkGlqN"
      },
      "source": [
        "## Ejercicio 1"
      ]
    },
    {
      "cell_type": "code",
      "metadata": {
        "id": "IhzSTwKTtaaS"
      },
      "source": [
        "data = load_boston()"
      ],
      "execution_count": null,
      "outputs": []
    },
    {
      "cell_type": "code",
      "metadata": {
        "colab": {
          "base_uri": "https://localhost:8080/"
        },
        "id": "2Tyy08hbtvBz",
        "outputId": "26bca758-c094-415f-843c-8261e7d6ef80"
      },
      "source": [
        "print(data.DESCR)"
      ],
      "execution_count": null,
      "outputs": [
        {
          "output_type": "stream",
          "text": [
            ".. _boston_dataset:\n",
            "\n",
            "Boston house prices dataset\n",
            "---------------------------\n",
            "\n",
            "**Data Set Characteristics:**  \n",
            "\n",
            "    :Number of Instances: 506 \n",
            "\n",
            "    :Number of Attributes: 13 numeric/categorical predictive. Median Value (attribute 14) is usually the target.\n",
            "\n",
            "    :Attribute Information (in order):\n",
            "        - CRIM     per capita crime rate by town\n",
            "        - ZN       proportion of residential land zoned for lots over 25,000 sq.ft.\n",
            "        - INDUS    proportion of non-retail business acres per town\n",
            "        - CHAS     Charles River dummy variable (= 1 if tract bounds river; 0 otherwise)\n",
            "        - NOX      nitric oxides concentration (parts per 10 million)\n",
            "        - RM       average number of rooms per dwelling\n",
            "        - AGE      proportion of owner-occupied units built prior to 1940\n",
            "        - DIS      weighted distances to five Boston employment centres\n",
            "        - RAD      index of accessibility to radial highways\n",
            "        - TAX      full-value property-tax rate per $10,000\n",
            "        - PTRATIO  pupil-teacher ratio by town\n",
            "        - B        1000(Bk - 0.63)^2 where Bk is the proportion of blacks by town\n",
            "        - LSTAT    % lower status of the population\n",
            "        - MEDV     Median value of owner-occupied homes in $1000's\n",
            "\n",
            "    :Missing Attribute Values: None\n",
            "\n",
            "    :Creator: Harrison, D. and Rubinfeld, D.L.\n",
            "\n",
            "This is a copy of UCI ML housing dataset.\n",
            "https://archive.ics.uci.edu/ml/machine-learning-databases/housing/\n",
            "\n",
            "\n",
            "This dataset was taken from the StatLib library which is maintained at Carnegie Mellon University.\n",
            "\n",
            "The Boston house-price data of Harrison, D. and Rubinfeld, D.L. 'Hedonic\n",
            "prices and the demand for clean air', J. Environ. Economics & Management,\n",
            "vol.5, 81-102, 1978.   Used in Belsley, Kuh & Welsch, 'Regression diagnostics\n",
            "...', Wiley, 1980.   N.B. Various transformations are used in the table on\n",
            "pages 244-261 of the latter.\n",
            "\n",
            "The Boston house-price data has been used in many machine learning papers that address regression\n",
            "problems.   \n",
            "     \n",
            ".. topic:: References\n",
            "\n",
            "   - Belsley, Kuh & Welsch, 'Regression diagnostics: Identifying Influential Data and Sources of Collinearity', Wiley, 1980. 244-261.\n",
            "   - Quinlan,R. (1993). Combining Instance-Based and Model-Based Learning. In Proceedings on the Tenth International Conference of Machine Learning, 236-243, University of Massachusetts, Amherst. Morgan Kaufmann.\n",
            "\n"
          ],
          "name": "stdout"
        }
      ]
    },
    {
      "cell_type": "code",
      "metadata": {
        "id": "p_fYMZUUtdqF"
      },
      "source": [
        "df = pd.DataFrame(data.data, columns = data.feature_names)"
      ],
      "execution_count": null,
      "outputs": []
    },
    {
      "cell_type": "code",
      "metadata": {
        "colab": {
          "base_uri": "https://localhost:8080/",
          "height": 195
        },
        "id": "USwhNavmtnOS",
        "outputId": "d96e00da-815b-490c-92c1-af3ef18007b2"
      },
      "source": [
        "df.head()"
      ],
      "execution_count": null,
      "outputs": [
        {
          "output_type": "execute_result",
          "data": {
            "text/html": [
              "<div>\n",
              "<style scoped>\n",
              "    .dataframe tbody tr th:only-of-type {\n",
              "        vertical-align: middle;\n",
              "    }\n",
              "\n",
              "    .dataframe tbody tr th {\n",
              "        vertical-align: top;\n",
              "    }\n",
              "\n",
              "    .dataframe thead th {\n",
              "        text-align: right;\n",
              "    }\n",
              "</style>\n",
              "<table border=\"1\" class=\"dataframe\">\n",
              "  <thead>\n",
              "    <tr style=\"text-align: right;\">\n",
              "      <th></th>\n",
              "      <th>CRIM</th>\n",
              "      <th>ZN</th>\n",
              "      <th>INDUS</th>\n",
              "      <th>CHAS</th>\n",
              "      <th>NOX</th>\n",
              "      <th>RM</th>\n",
              "      <th>AGE</th>\n",
              "      <th>DIS</th>\n",
              "      <th>RAD</th>\n",
              "      <th>TAX</th>\n",
              "      <th>PTRATIO</th>\n",
              "      <th>B</th>\n",
              "      <th>LSTAT</th>\n",
              "    </tr>\n",
              "  </thead>\n",
              "  <tbody>\n",
              "    <tr>\n",
              "      <th>0</th>\n",
              "      <td>0.00632</td>\n",
              "      <td>18.0</td>\n",
              "      <td>2.31</td>\n",
              "      <td>0.0</td>\n",
              "      <td>0.538</td>\n",
              "      <td>6.575</td>\n",
              "      <td>65.2</td>\n",
              "      <td>4.0900</td>\n",
              "      <td>1.0</td>\n",
              "      <td>296.0</td>\n",
              "      <td>15.3</td>\n",
              "      <td>396.90</td>\n",
              "      <td>4.98</td>\n",
              "    </tr>\n",
              "    <tr>\n",
              "      <th>1</th>\n",
              "      <td>0.02731</td>\n",
              "      <td>0.0</td>\n",
              "      <td>7.07</td>\n",
              "      <td>0.0</td>\n",
              "      <td>0.469</td>\n",
              "      <td>6.421</td>\n",
              "      <td>78.9</td>\n",
              "      <td>4.9671</td>\n",
              "      <td>2.0</td>\n",
              "      <td>242.0</td>\n",
              "      <td>17.8</td>\n",
              "      <td>396.90</td>\n",
              "      <td>9.14</td>\n",
              "    </tr>\n",
              "    <tr>\n",
              "      <th>2</th>\n",
              "      <td>0.02729</td>\n",
              "      <td>0.0</td>\n",
              "      <td>7.07</td>\n",
              "      <td>0.0</td>\n",
              "      <td>0.469</td>\n",
              "      <td>7.185</td>\n",
              "      <td>61.1</td>\n",
              "      <td>4.9671</td>\n",
              "      <td>2.0</td>\n",
              "      <td>242.0</td>\n",
              "      <td>17.8</td>\n",
              "      <td>392.83</td>\n",
              "      <td>4.03</td>\n",
              "    </tr>\n",
              "    <tr>\n",
              "      <th>3</th>\n",
              "      <td>0.03237</td>\n",
              "      <td>0.0</td>\n",
              "      <td>2.18</td>\n",
              "      <td>0.0</td>\n",
              "      <td>0.458</td>\n",
              "      <td>6.998</td>\n",
              "      <td>45.8</td>\n",
              "      <td>6.0622</td>\n",
              "      <td>3.0</td>\n",
              "      <td>222.0</td>\n",
              "      <td>18.7</td>\n",
              "      <td>394.63</td>\n",
              "      <td>2.94</td>\n",
              "    </tr>\n",
              "    <tr>\n",
              "      <th>4</th>\n",
              "      <td>0.06905</td>\n",
              "      <td>0.0</td>\n",
              "      <td>2.18</td>\n",
              "      <td>0.0</td>\n",
              "      <td>0.458</td>\n",
              "      <td>7.147</td>\n",
              "      <td>54.2</td>\n",
              "      <td>6.0622</td>\n",
              "      <td>3.0</td>\n",
              "      <td>222.0</td>\n",
              "      <td>18.7</td>\n",
              "      <td>396.90</td>\n",
              "      <td>5.33</td>\n",
              "    </tr>\n",
              "  </tbody>\n",
              "</table>\n",
              "</div>"
            ],
            "text/plain": [
              "      CRIM    ZN  INDUS  CHAS    NOX  ...  RAD    TAX  PTRATIO       B  LSTAT\n",
              "0  0.00632  18.0   2.31   0.0  0.538  ...  1.0  296.0     15.3  396.90   4.98\n",
              "1  0.02731   0.0   7.07   0.0  0.469  ...  2.0  242.0     17.8  396.90   9.14\n",
              "2  0.02729   0.0   7.07   0.0  0.469  ...  2.0  242.0     17.8  392.83   4.03\n",
              "3  0.03237   0.0   2.18   0.0  0.458  ...  3.0  222.0     18.7  394.63   2.94\n",
              "4  0.06905   0.0   2.18   0.0  0.458  ...  3.0  222.0     18.7  396.90   5.33\n",
              "\n",
              "[5 rows x 13 columns]"
            ]
          },
          "metadata": {
            "tags": []
          },
          "execution_count": 8
        }
      ]
    },
    {
      "cell_type": "code",
      "metadata": {
        "colab": {
          "base_uri": "https://localhost:8080/"
        },
        "id": "4HCIS4QKt4ME",
        "outputId": "e8b1b01e-5388-484a-a3c6-f3e8f2e7c03c"
      },
      "source": [
        "data.target"
      ],
      "execution_count": null,
      "outputs": [
        {
          "output_type": "execute_result",
          "data": {
            "text/plain": [
              "array([24. , 21.6, 34.7, 33.4, 36.2, 28.7, 22.9, 27.1, 16.5, 18.9, 15. ,\n",
              "       18.9, 21.7, 20.4, 18.2, 19.9, 23.1, 17.5, 20.2, 18.2, 13.6, 19.6,\n",
              "       15.2, 14.5, 15.6, 13.9, 16.6, 14.8, 18.4, 21. , 12.7, 14.5, 13.2,\n",
              "       13.1, 13.5, 18.9, 20. , 21. , 24.7, 30.8, 34.9, 26.6, 25.3, 24.7,\n",
              "       21.2, 19.3, 20. , 16.6, 14.4, 19.4, 19.7, 20.5, 25. , 23.4, 18.9,\n",
              "       35.4, 24.7, 31.6, 23.3, 19.6, 18.7, 16. , 22.2, 25. , 33. , 23.5,\n",
              "       19.4, 22. , 17.4, 20.9, 24.2, 21.7, 22.8, 23.4, 24.1, 21.4, 20. ,\n",
              "       20.8, 21.2, 20.3, 28. , 23.9, 24.8, 22.9, 23.9, 26.6, 22.5, 22.2,\n",
              "       23.6, 28.7, 22.6, 22. , 22.9, 25. , 20.6, 28.4, 21.4, 38.7, 43.8,\n",
              "       33.2, 27.5, 26.5, 18.6, 19.3, 20.1, 19.5, 19.5, 20.4, 19.8, 19.4,\n",
              "       21.7, 22.8, 18.8, 18.7, 18.5, 18.3, 21.2, 19.2, 20.4, 19.3, 22. ,\n",
              "       20.3, 20.5, 17.3, 18.8, 21.4, 15.7, 16.2, 18. , 14.3, 19.2, 19.6,\n",
              "       23. , 18.4, 15.6, 18.1, 17.4, 17.1, 13.3, 17.8, 14. , 14.4, 13.4,\n",
              "       15.6, 11.8, 13.8, 15.6, 14.6, 17.8, 15.4, 21.5, 19.6, 15.3, 19.4,\n",
              "       17. , 15.6, 13.1, 41.3, 24.3, 23.3, 27. , 50. , 50. , 50. , 22.7,\n",
              "       25. , 50. , 23.8, 23.8, 22.3, 17.4, 19.1, 23.1, 23.6, 22.6, 29.4,\n",
              "       23.2, 24.6, 29.9, 37.2, 39.8, 36.2, 37.9, 32.5, 26.4, 29.6, 50. ,\n",
              "       32. , 29.8, 34.9, 37. , 30.5, 36.4, 31.1, 29.1, 50. , 33.3, 30.3,\n",
              "       34.6, 34.9, 32.9, 24.1, 42.3, 48.5, 50. , 22.6, 24.4, 22.5, 24.4,\n",
              "       20. , 21.7, 19.3, 22.4, 28.1, 23.7, 25. , 23.3, 28.7, 21.5, 23. ,\n",
              "       26.7, 21.7, 27.5, 30.1, 44.8, 50. , 37.6, 31.6, 46.7, 31.5, 24.3,\n",
              "       31.7, 41.7, 48.3, 29. , 24. , 25.1, 31.5, 23.7, 23.3, 22. , 20.1,\n",
              "       22.2, 23.7, 17.6, 18.5, 24.3, 20.5, 24.5, 26.2, 24.4, 24.8, 29.6,\n",
              "       42.8, 21.9, 20.9, 44. , 50. , 36. , 30.1, 33.8, 43.1, 48.8, 31. ,\n",
              "       36.5, 22.8, 30.7, 50. , 43.5, 20.7, 21.1, 25.2, 24.4, 35.2, 32.4,\n",
              "       32. , 33.2, 33.1, 29.1, 35.1, 45.4, 35.4, 46. , 50. , 32.2, 22. ,\n",
              "       20.1, 23.2, 22.3, 24.8, 28.5, 37.3, 27.9, 23.9, 21.7, 28.6, 27.1,\n",
              "       20.3, 22.5, 29. , 24.8, 22. , 26.4, 33.1, 36.1, 28.4, 33.4, 28.2,\n",
              "       22.8, 20.3, 16.1, 22.1, 19.4, 21.6, 23.8, 16.2, 17.8, 19.8, 23.1,\n",
              "       21. , 23.8, 23.1, 20.4, 18.5, 25. , 24.6, 23. , 22.2, 19.3, 22.6,\n",
              "       19.8, 17.1, 19.4, 22.2, 20.7, 21.1, 19.5, 18.5, 20.6, 19. , 18.7,\n",
              "       32.7, 16.5, 23.9, 31.2, 17.5, 17.2, 23.1, 24.5, 26.6, 22.9, 24.1,\n",
              "       18.6, 30.1, 18.2, 20.6, 17.8, 21.7, 22.7, 22.6, 25. , 19.9, 20.8,\n",
              "       16.8, 21.9, 27.5, 21.9, 23.1, 50. , 50. , 50. , 50. , 50. , 13.8,\n",
              "       13.8, 15. , 13.9, 13.3, 13.1, 10.2, 10.4, 10.9, 11.3, 12.3,  8.8,\n",
              "        7.2, 10.5,  7.4, 10.2, 11.5, 15.1, 23.2,  9.7, 13.8, 12.7, 13.1,\n",
              "       12.5,  8.5,  5. ,  6.3,  5.6,  7.2, 12.1,  8.3,  8.5,  5. , 11.9,\n",
              "       27.9, 17.2, 27.5, 15. , 17.2, 17.9, 16.3,  7. ,  7.2,  7.5, 10.4,\n",
              "        8.8,  8.4, 16.7, 14.2, 20.8, 13.4, 11.7,  8.3, 10.2, 10.9, 11. ,\n",
              "        9.5, 14.5, 14.1, 16.1, 14.3, 11.7, 13.4,  9.6,  8.7,  8.4, 12.8,\n",
              "       10.5, 17.1, 18.4, 15.4, 10.8, 11.8, 14.9, 12.6, 14.1, 13. , 13.4,\n",
              "       15.2, 16.1, 17.8, 14.9, 14.1, 12.7, 13.5, 14.9, 20. , 16.4, 17.7,\n",
              "       19.5, 20.2, 21.4, 19.9, 19. , 19.1, 19.1, 20.1, 19.9, 19.6, 23.2,\n",
              "       29.8, 13.8, 13.3, 16.7, 12. , 14.6, 21.4, 23. , 23.7, 25. , 21.8,\n",
              "       20.6, 21.2, 19.1, 20.6, 15.2,  7. ,  8.1, 13.6, 20.1, 21.8, 24.5,\n",
              "       23.1, 19.7, 18.3, 21.2, 17.5, 16.8, 22.4, 20.6, 23.9, 22. , 11.9])"
            ]
          },
          "metadata": {
            "tags": []
          },
          "execution_count": 9
        }
      ]
    },
    {
      "cell_type": "code",
      "metadata": {
        "id": "pGOlN4uDto82"
      },
      "source": [
        "df[\"target\"] = data.target"
      ],
      "execution_count": null,
      "outputs": []
    },
    {
      "cell_type": "code",
      "metadata": {
        "colab": {
          "base_uri": "https://localhost:8080/",
          "height": 1000
        },
        "id": "mTj-ZNUwL5Yy",
        "outputId": "070a50a7-409c-4de2-b2e0-e0d28abfc3c8"
      },
      "source": [
        "graficar_variables(df)"
      ],
      "execution_count": null,
      "outputs": [
        {
          "output_type": "stream",
          "text": [
            "float64\n"
          ],
          "name": "stdout"
        },
        {
          "output_type": "display_data",
          "data": {
            "image/png": "[encoded data removed]",
            "text/plain": [
              "<Figure size 432x288 with 1 Axes>"
            ]
          },
          "metadata": {
            "tags": [],
            "needs_background": "light"
          }
        },
        {
          "output_type": "stream",
          "text": [
            "float64\n"
          ],
          "name": "stdout"
        },
        {
          "output_type": "display_data",
          "data": {
            "image/png": "[encoded data removed]",
            "text/plain": [
              "<Figure size 432x288 with 1 Axes>"
            ]
          },
          "metadata": {
            "tags": [],
            "needs_background": "light"
          }
        },
        {
          "output_type": "stream",
          "text": [
            "float64\n"
          ],
          "name": "stdout"
        },
        {
          "output_type": "display_data",
          "data": {
            "image/png": "[encoded data removed]",
            "text/plain": [
              "<Figure size 432x288 with 1 Axes>"
            ]
          },
          "metadata": {
            "tags": [],
            "needs_background": "light"
          }
        },
        {
          "output_type": "stream",
          "text": [
            "float64\n"
          ],
          "name": "stdout"
        },
        {
          "output_type": "display_data",
          "data": {
            "image/png": "[encoded data removed]",
            "text/plain": [
              "<Figure size 432x288 with 1 Axes>"
            ]
          },
          "metadata": {
            "tags": [],
            "needs_background": "light"
          }
        },
        {
          "output_type": "stream",
          "text": [
            "float64\n"
          ],
          "name": "stdout"
        },
        {
          "output_type": "display_data",
          "data": {
            "image/png": "[encoded data removed]",
            "text/plain": [
              "<Figure size 432x288 with 1 Axes>"
            ]
          },
          "metadata": {
            "tags": [],
            "needs_background": "light"
          }
        },
        {
          "output_type": "stream",
          "text": [
            "float64\n"
          ],
          "name": "stdout"
        },
        {
          "output_type": "display_data",
          "data": {
            "image/png": "[encoded data removed]",
            "text/plain": [
              "<Figure size 432x288 with 1 Axes>"
            ]
          },
          "metadata": {
            "tags": [],
            "needs_background": "light"
          }
        },
        {
          "output_type": "stream",
          "text": [
            "float64\n"
          ],
          "name": "stdout"
        },
        {
          "output_type": "display_data",
          "data": {
            "image/png": "[encoded data removed]",
            "text/plain": [
              "<Figure size 432x288 with 1 Axes>"
            ]
          },
          "metadata": {
            "tags": [],
            "needs_background": "light"
          }
        },
        {
          "output_type": "stream",
          "text": [
            "float64\n"
          ],
          "name": "stdout"
        },
        {
          "output_type": "display_data",
          "data": {
            "image/png": "[encoded data removed]",
            "text/plain": [
              "<Figure size 432x288 with 1 Axes>"
            ]
          },
          "metadata": {
            "tags": [],
            "needs_background": "light"
          }
        },
        {
          "output_type": "stream",
          "text": [
            "float64\n"
          ],
          "name": "stdout"
        },
        {
          "output_type": "display_data",
          "data": {
            "image/png": "[encoded data removed]",
            "text/plain": [
              "<Figure size 432x288 with 1 Axes>"
            ]
          },
          "metadata": {
            "tags": [],
            "needs_background": "light"
          }
        },
        {
          "output_type": "stream",
          "text": [
            "float64\n"
          ],
          "name": "stdout"
        },
        {
          "output_type": "display_data",
          "data": {
            "image/png": "[encoded data removed]",
            "text/plain": [
              "<Figure size 432x288 with 1 Axes>"
            ]
          },
          "metadata": {
            "tags": [],
            "needs_background": "light"
          }
        },
        {
          "output_type": "stream",
          "text": [
            "float64\n"
          ],
          "name": "stdout"
        },
        {
          "output_type": "display_data",
          "data": {
            "image/png": "[encoded data removed]",
            "text/plain": [
              "<Figure size 432x288 with 1 Axes>"
            ]
          },
          "metadata": {
            "tags": [],
            "needs_background": "light"
          }
        },
        {
          "output_type": "stream",
          "text": [
            "float64\n"
          ],
          "name": "stdout"
        },
        {
          "output_type": "display_data",
          "data": {
            "image/png": "[encoded data removed]",
            "text/plain": [
              "<Figure size 432x288 with 1 Axes>"
            ]
          },
          "metadata": {
            "tags": [],
            "needs_background": "light"
          }
        },
        {
          "output_type": "stream",
          "text": [
            "float64\n"
          ],
          "name": "stdout"
        },
        {
          "output_type": "display_data",
          "data": {
            "image/png": "[encoded data removed]",
            "text/plain": [
              "<Figure size 432x288 with 1 Axes>"
            ]
          },
          "metadata": {
            "tags": [],
            "needs_background": "light"
          }
        },
        {
          "output_type": "stream",
          "text": [
            "float64\n"
          ],
          "name": "stdout"
        },
        {
          "output_type": "display_data",
          "data": {
            "image/png": "[encoded data removed]",
            "text/plain": [
              "<Figure size 432x288 with 1 Axes>"
            ]
          },
          "metadata": {
            "tags": [],
            "needs_background": "light"
          }
        }
      ]
    },
    {
      "cell_type": "code",
      "metadata": {
        "colab": {
          "base_uri": "https://localhost:8080/"
        },
        "id": "kjbaGF_W7udb",
        "outputId": "bd6d8ba3-a7b6-4983-e022-828e3880efde"
      },
      "source": [
        "### Número de datos \n",
        "df.shape"
      ],
      "execution_count": null,
      "outputs": [
        {
          "output_type": "execute_result",
          "data": {
            "text/plain": [
              "(506, 14)"
            ]
          },
          "metadata": {
            "tags": []
          },
          "execution_count": 12
        }
      ]
    },
    {
      "cell_type": "code",
      "metadata": {
        "id": "pEH6-NMnv-6c"
      },
      "source": [
        "### Funciones necesarias (fuente: https://github.com/gibranfp/CursoAprendizajeAutomatizado/blob/master/notebooks/2b_regularizacion.ipynb)"
      ],
      "execution_count": null,
      "outputs": []
    },
    {
      "cell_type": "markdown",
      "metadata": {
        "id": "8No2Mwf6wGUf"
      },
      "source": [
        "\n",
        "#### Expansión polinomial (expol)\n",
        "\n",
        "Definimos la función de expansión polinomial, la cual toma un vector de atributos y calcula cada grado del polinomio con él.\n"
      ]
    },
    {
      "cell_type": "code",
      "metadata": {
        "id": "NIpJjHFqwApR"
      },
      "source": [
        "def expol(X, grado):\n",
        "  phi_X = X.copy()\n",
        "  for i in range(grado - 1):\n",
        "    powerX = np.power(X, i + 2)\n",
        "    phi_X = np.column_stack((phi_X, powerX))\n",
        "    \n",
        "  unos = np.ones(phi_X.shape[0])\n",
        "  return np.column_stack((unos, phi_X))\n",
        "\n"
      ],
      "execution_count": null,
      "outputs": []
    },
    {
      "cell_type": "markdown",
      "metadata": {
        "id": "ipgEZMpnMEQP"
      },
      "source": [
        "Definimos la función para escalar los atributos"
      ]
    },
    {
      "cell_type": "code",
      "metadata": {
        "id": "oWs5qlLnMAm4"
      },
      "source": [
        "class EscaladoEstandar:\n",
        "  def fit(self, X):\n",
        "    self.media = X.mean(axis=0).reshape(1,-1)\n",
        "    self.std = X.std(axis=0).reshape(1,-1)\n",
        "    \n",
        "  def transform(self, X):\n",
        "    return (X - self.media) / self.std\n",
        "\n",
        "  def fit_transform(self, X):\n",
        "    self.fit(X)\n",
        "    return self.transform(X)\n",
        "\n"
      ],
      "execution_count": null,
      "outputs": []
    },
    {
      "cell_type": "markdown",
      "metadata": {
        "id": "5e8fisanwYdI"
      },
      "source": [
        "\n",
        "#### Suma de errores cuadráticos\n",
        "\n",
        "También definimos la función de errores cuadráticos\n"
      ]
    },
    {
      "cell_type": "code",
      "metadata": {
        "id": "TITjNMdjwUZP"
      },
      "source": [
        "def sse(y, y_hat):\n",
        "  return np.square(y - y_hat).sum()\n",
        "\n",
        "def ecm(y, y_hat):\n",
        "  return np.square(y_hat - y).mean()"
      ],
      "execution_count": null,
      "outputs": []
    },
    {
      "cell_type": "markdown",
      "metadata": {
        "id": "LB0X4wypwrhw"
      },
      "source": [
        "#### Mínimos cuadrados\n",
        "\n",
        "Clase base para regresión lineal al estilo scikit-learn, en la cual se definen únicamente los métodos fit y predict\n"
      ]
    },
    {
      "cell_type": "code",
      "metadata": {
        "id": "A_Nsa_RbwqSt"
      },
      "source": [
        "class RegresionLineal():\n",
        "  def fit(self, X, y):\n",
        "    '''\n",
        "    Estima los parámetros del modelo\n",
        "    '''\n",
        "    self._estima_parametros(X, y)\n",
        "  \n",
        "  def predict(self, X):\n",
        "    '''\n",
        "    Predice valores de vectores dados\n",
        "    '''\n",
        "    return X @ self.parameters"
      ],
      "execution_count": null,
      "outputs": []
    },
    {
      "cell_type": "markdown",
      "metadata": {
        "id": "PGFnjVwaw4gw"
      },
      "source": [
        "Generamos una clase hija donde se define el método (`_estima_parametros`) con la solución de mínimos cuadrados\n",
        "$$\n",
        "\\boldsymbol{\\theta}_{EMV} = (\\mathbf{X}^\\top \\mathbf{X})^{-1} \\mathbf{X}^\\top \\mathbf{y}\n",
        "$$"
      ]
    },
    {
      "cell_type": "code",
      "metadata": {
        "id": "LgasbPaSxSlT"
      },
      "source": [
        "class MinimosCuadrados(RegresionLineal):\n",
        "  def _estima_parametros(self, X, y):\n",
        "    self.parameters = np.linalg.inv(X.T @ X) @ (X.T @ y)"
      ],
      "execution_count": null,
      "outputs": []
    },
    {
      "cell_type": "code",
      "metadata": {
        "id": "_iw4iYIn-ZRk"
      },
      "source": [
        "class MinimosCuadradosQR(RegresionLineal):\n",
        "  def _estima_parametros(self, X, y):\n",
        "    q, r = np.linalg.qr(X)\n",
        "    self.parameters = np.linalg.inv(r) @ q.T @ y\n"
      ],
      "execution_count": null,
      "outputs": []
    },
    {
      "cell_type": "markdown",
      "metadata": {
        "id": "6LJmRuGuz_bs"
      },
      "source": [
        "Definimos función que entrena y evalúa modelos de regresión dados los datos"
      ]
    },
    {
      "cell_type": "code",
      "metadata": {
        "id": "iOAH4aLMA3WK"
      },
      "source": [
        "### Se cambió n_ent por len(y_ent) para hacer a la función un poco dinámica"
      ],
      "execution_count": null,
      "outputs": []
    },
    {
      "cell_type": "code",
      "metadata": {
        "id": "9DdgvWY3z-6F"
      },
      "source": [
        "def entrena_evalua(m, X_ent, y_ent, X_val, y_va, g):\n",
        "  es = EscaladoEstandar()\n",
        "  X_ent = expol(es.fit_transform(X_ent), g)\n",
        "  X_val = expol(es.transform(X_val), g)\n",
        "\n",
        "  m.fit(X_ent, y_ent)\n",
        "\n",
        "  y_hat_ent = m.predict(X_ent)\n",
        "  y_hat_val = m.predict(X_val)\n",
        "\n",
        "  ecm_ent = ecm(y_ent, y_hat_ent)\n",
        "  ecm_val = ecm(y_val, y_hat_val) \n",
        "\n",
        "  return ecm_ent, ecm_val, m, es\n",
        "\n"
      ],
      "execution_count": null,
      "outputs": []
    },
    {
      "cell_type": "markdown",
      "metadata": {
        "id": "yDMpfycnJrZN"
      },
      "source": [
        "validación cruzada de $K$ particiones"
      ]
    },
    {
      "cell_type": "code",
      "metadata": {
        "id": "WkfCpR-UJqO1"
      },
      "source": [
        "def vc_kpart(X, y, k = 5):\n",
        "  n = X.shape[0]\n",
        "  t_pliegue = int(n / k)\n",
        "  for i in range(k):\n",
        "    masc_val = np.zeros(n, dtype=bool)\n",
        "    masc_val[t_pliegue * i:t_pliegue * (i + 1)] = True\n",
        "    masc_ent = np.logical_not(masc_val)\n",
        "    X_ent = X[masc_ent, :]\n",
        "    y_ent = y[masc_ent]\n",
        "    X_val = X[masc_val, :]\n",
        "    y_val = y[masc_val]\n",
        "    \n",
        "    yield i, X_ent, y_ent, X_val, y_val"
      ],
      "execution_count": null,
      "outputs": []
    },
    {
      "cell_type": "code",
      "metadata": {
        "id": "BDMZr1C4Rzsr"
      },
      "source": [
        "\n",
        "def vcrep_kpart(X, y, r=10, k=4):\n",
        "  n = X.shape[0]\n",
        "  for i in range(r):\n",
        "    perm = np.random.permutation(n)\n",
        "    X = X[perm,:]\n",
        "    y = y[perm]\n",
        "    t_pliegue = int(n / k) \n",
        "    for j in range(k):\n",
        "      masc_val = np.zeros(n, dtype=bool)\n",
        "      masc_val[t_pliegue*j:t_pliegue*(j+1)] = True\n",
        "      masc_ent = np.logical_not(masc_val)\n",
        "      X_ent = X[masc_ent, :]\n",
        "      y_ent = y[masc_ent]\n",
        "      X_val = X[masc_val, :]\n",
        "      y_val = y[masc_val]\n",
        "      \n",
        "      yield i, j, i * k + j , X_ent, y_ent, X_val, y_val\n",
        "\n"
      ],
      "execution_count": null,
      "outputs": []
    },
    {
      "cell_type": "code",
      "metadata": {
        "id": "capPKQDouAbc"
      },
      "source": [
        "\n",
        "\n",
        "###"
      ],
      "execution_count": null,
      "outputs": []
    },
    {
      "cell_type": "code",
      "metadata": {
        "colab": {
          "base_uri": "https://localhost:8080/"
        },
        "id": "XCGoUqhZC_wZ",
        "outputId": "6c6269a2-22af-44c6-ef5c-9c4f07276f6b"
      },
      "source": [
        "import numpy as np\n",
        "from sklearn.decomposition import PCA\n",
        "X = df.iloc[:,:-1]\n",
        "pca = PCA(n_components=10)\n",
        "X_pca = pca.fit_transform(X)\n",
        "pca.explained_variance_ratio_\n"
      ],
      "execution_count": null,
      "outputs": [
        {
          "output_type": "execute_result",
          "data": {
            "text/plain": [
              "array([8.05823175e-01, 1.63051968e-01, 2.13486092e-02, 6.95699061e-03,\n",
              "       1.29995193e-03, 7.27220158e-04, 4.19044539e-04, 2.48538539e-04,\n",
              "       8.53912023e-05, 3.08071548e-05])"
            ]
          },
          "metadata": {
            "tags": []
          },
          "execution_count": 25
        }
      ]
    },
    {
      "cell_type": "code",
      "metadata": {
        "colab": {
          "base_uri": "https://localhost:8080/",
          "height": 298
        },
        "id": "iPY8UQ9LDc8R",
        "outputId": "384851f7-9d99-46c9-b74e-b6b4656bb127"
      },
      "source": [
        "\n",
        "plt.plot(X_pca[:,1], data.target, \"ro\")\n",
        "plt.title(\"PCA x vs Y_train\")"
      ],
      "execution_count": null,
      "outputs": [
        {
          "output_type": "execute_result",
          "data": {
            "text/plain": [
              "Text(0.5, 1.0, 'PCA x vs Y_train')"
            ]
          },
          "metadata": {
            "tags": []
          },
          "execution_count": 26
        },
        {
          "output_type": "display_data",
          "data": {
            "image/png": "[encoded data removed]",
            "text/plain": [
              "<Figure size 432x288 with 1 Axes>"
            ]
          },
          "metadata": {
            "tags": [],
            "needs_background": "light"
          }
        }
      ]
    },
    {
      "cell_type": "code",
      "metadata": {
        "colab": {
          "base_uri": "https://localhost:8080/",
          "height": 458
        },
        "id": "iuxvKYRdEbS9",
        "outputId": "30dc1861-b1f4-47f2-ffb8-d85738b6484d"
      },
      "source": [
        "sns.jointplot( x=X_pca[:,1], y=data.target, kind=\"hex\")"
      ],
      "execution_count": null,
      "outputs": [
        {
          "output_type": "execute_result",
          "data": {
            "text/plain": [
              "<seaborn.axisgrid.JointGrid at 0x7f9beb6c8850>"
            ]
          },
          "metadata": {
            "tags": []
          },
          "execution_count": 27
        },
        {
          "output_type": "display_data",
          "data": {
            "image/png": "[encoded data removed]",
            "text/plain": [
              "<Figure size 432x432 with 3 Axes>"
            ]
          },
          "metadata": {
            "tags": [],
            "needs_background": "light"
          }
        }
      ]
    },
    {
      "cell_type": "code",
      "metadata": {
        "id": "C5AdBDM-ww3w"
      },
      "source": [
        "from sklearn.model_selection import train_test_split\n",
        "X_train, X_test, y_train, y_test = train_test_split(df.iloc[:,:-1], df.iloc[:,1], random_state = 100)"
      ],
      "execution_count": null,
      "outputs": []
    },
    {
      "cell_type": "code",
      "metadata": {
        "colab": {
          "base_uri": "https://localhost:8080/"
        },
        "id": "VYau9l7AFuVP",
        "outputId": "6e660d18-6103-4ccc-a872-5e3b8bcdf06f"
      },
      "source": [
        "y_train.values"
      ],
      "execution_count": null,
      "outputs": [
        {
          "output_type": "execute_result",
          "data": {
            "text/plain": [
              "array([  0. ,   0. ,  21. ,   0. ,   0. ,  30. ,   0. ,   0. ,  80. ,\n",
              "         0. ,   0. ,   0. ,   0. ,   0. ,   0. ,   0. ,  55. ,  45. ,\n",
              "         0. ,   0. ,  20. ,   0. ,   0. ,   0. ,  20. ,   0. ,   0. ,\n",
              "         0. ,  95. ,   0. ,   0. ,   0. ,   0. ,   0. ,   0. ,   0. ,\n",
              "         0. ,  17.5,   0. ,   0. ,  20. ,  80. ,   0. ,   0. ,  55. ,\n",
              "         0. ,  45. ,  25. ,   0. ,   0. ,   0. ,   0. ,   0. ,  45. ,\n",
              "         0. ,  60. ,  20. ,   0. ,   0. ,   0. ,   0. ,  20. ,   0. ,\n",
              "        34. ,   0. ,   0. ,   0. ,   0. ,   0. ,   0. ,   0. ,   0. ,\n",
              "         0. ,   0. ,   0. ,   0. ,   0. ,   0. ,  40. ,   0. ,   0. ,\n",
              "        25. ,   0. ,  52.5,  20. ,  22. ,   0. ,   0. ,   0. ,   0. ,\n",
              "         0. ,   0. ,  35. ,   0. ,  25. ,   0. ,   0. ,   0. ,   0. ,\n",
              "         0. ,   0. ,   0. ,  33. ,   0. ,   0. ,   0. ,   0. ,  30. ,\n",
              "         0. ,   0. ,   0. ,   0. ,   0. ,   0. ,  75. ,  20. ,   0. ,\n",
              "         0. ,   0. ,   0. ,  12.5,   0. ,  80. ,  20. ,   0. ,   0. ,\n",
              "        80. ,   0. ,   0. ,   0. ,  95. ,  45. ,   0. ,   0. ,   0. ,\n",
              "         0. ,  33. ,  20. ,  70. ,   0. ,  80. ,   0. ,   0. ,   0. ,\n",
              "         0. ,   0. ,   0. ,   0. ,   0. ,  82.5,   0. ,  21. ,   0. ,\n",
              "         0. ,   0. ,   0. ,   0. ,   0. ,   0. ,  20. ,   0. ,   0. ,\n",
              "         0. ,  22. ,  22. ,   0. ,  25. ,   0. ,   0. ,   0. ,   0. ,\n",
              "         0. ,   0. ,   0. ,  30. ,   0. ,   0. ,  40. ,   0. ,   0. ,\n",
              "        12.5,   0. ,   0. ,  60. ,  20. ,  25. ,   0. ,  25. ,   0. ,\n",
              "         0. ,   0. ,   0. ,   0. ,   0. ,   0. ,   0. ,   0. ,   0. ,\n",
              "         0. ,   0. ,   0. ,   0. ,   0. ,  90. ,   0. ,   0. ,   0. ,\n",
              "         0. ,   0. ,   0. ,   0. ,   0. ,   0. ,   0. ,   0. ,   0. ,\n",
              "         0. ,   0. ,   0. , 100. ,   0. ,   0. ,  28. ,  40. ,   0. ,\n",
              "        95. ,  20. ,   0. ,  40. ,   0. ,   0. ,  12.5,   0. ,   0. ,\n",
              "        12.5,   0. ,  80. ,   0. ,  34. ,   0. ,  30. ,   0. ,  80. ,\n",
              "        33. ,   0. ,   0. ,   0. ,   0. ,   0. ,   0. ,   0. ,   0. ,\n",
              "        20. ,  40. ,  12.5,  22. ,  33. ,  80. ,   0. ,   0. ,   0. ,\n",
              "        22. ,  90. ,   0. ,   0. ,  52.5,   0. ,   0. ,   0. ,   0. ,\n",
              "         0. ,   0. ,   0. ,   0. ,  28. ,   0. ,   0. ,   0. ,  20. ,\n",
              "         0. ,  70. ,   0. ,   0. ,   0. ,   0. ,   0. ,   0. ,   0. ,\n",
              "         0. ,   0. ,   0. ,   0. ,   0. ,   0. ,   0. ,  18. ,   0. ,\n",
              "         0. ,  85. ,  12.5,   0. ,   0. ,   0. ,   0. ,   0. ,   0. ,\n",
              "        20. ,  82.5,   0. ,  45. ,  40. ,   0. ,   0. ,   0. ,   0. ,\n",
              "        34. ,   0. ,   0. ,   0. ,  30. ,   0. ,  90. ,   0. ,  25. ,\n",
              "         0. ,   0. ,   0. ,   0. ,   0. ,  22. ,   0. ,   0. ,  20. ,\n",
              "         0. ,  60. ,   0. ,   0. ,   0. ,   0. ,   0. ,   0. ,   0. ,\n",
              "         0. ,   0. ,  22. ,   0. ,   0. ,   0. ,   0. ,   0. ,   0. ,\n",
              "         0. ,   0. ,  28. ,   0. ,   0. ,  25. ,   0. ,   0. ,   0. ,\n",
              "         0. ,   0. ,  30. ,  80. ,   0. ,   0. ,  80. ,  21. ,  80. ,\n",
              "         0. ,  40. ,   0. ,   0. ,   0. ,  55. ,   0. ,   0. ,  20. ,\n",
              "        12.5])"
            ]
          },
          "metadata": {
            "tags": []
          },
          "execution_count": 29
        }
      ]
    },
    {
      "cell_type": "code",
      "metadata": {
        "id": "HvsgxV_-Fg6c"
      },
      "source": [
        ""
      ],
      "execution_count": null,
      "outputs": []
    },
    {
      "cell_type": "code",
      "metadata": {
        "colab": {
          "base_uri": "https://localhost:8080/",
          "height": 458
        },
        "id": "Ndu8e0veDw5Z",
        "outputId": "d2aeff7e-6e02-4122-e780-25baf8dbac5e"
      },
      "source": [
        "sns.jointplot( x= np.concatenate([pca.transform(X_train)[:,1], pca.transform(X_test)[:,1]]), y= np.concatenate([y_train.values, y_test.values]),  hue = [\"Entrenamiento\"] * len(y_train) + [\"Prueba\"] * len(y_test))\n",
        "#valid_plot = plt.plot(pca.transform(X_test)[:,1], y_test, 'bo', label = u'Validación')\n",
        "plt.legend()\n",
        "plt.show()"
      ],
      "execution_count": null,
      "outputs": [
        {
          "output_type": "stream",
          "text": [
            "No handles with labels found to put in legend.\n"
          ],
          "name": "stderr"
        },
        {
          "output_type": "display_data",
          "data": {
            "image/png": "[encoded data removed]",
            "text/plain": [
              "<Figure size 432x432 with 3 Axes>"
            ]
          },
          "metadata": {
            "tags": [],
            "needs_background": "light"
          }
        }
      ]
    },
    {
      "cell_type": "code",
      "metadata": {
        "id": "GW3BkGSz-guK"
      },
      "source": [
        "X_ent, X_valid, y_ent, y_valid = train_test_split(X_train, y_train)"
      ],
      "execution_count": null,
      "outputs": []
    },
    {
      "cell_type": "code",
      "metadata": {
        "id": "9ZPAw9C2AJb0"
      },
      "source": [
        "grados = np.array([1,2,4,10,14, 20])\n",
        "mse_ent_grados = np.zeros(grados.shape[0])\n",
        "mse_valid_grados = np.zeros(grados.shape[0])"
      ],
      "execution_count": null,
      "outputs": []
    },
    {
      "cell_type": "code",
      "metadata": {
        "colab": {
          "base_uri": "https://localhost:8080/"
        },
        "id": "Kxh5zbzgIowP",
        "outputId": "bce7d016-c48c-443d-f6d9-4a1dc394cba8"
      },
      "source": [
        "np.square(2)"
      ],
      "execution_count": null,
      "outputs": [
        {
          "output_type": "execute_result",
          "data": {
            "text/plain": [
              "4"
            ]
          },
          "metadata": {
            "tags": []
          },
          "execution_count": 33
        }
      ]
    },
    {
      "cell_type": "code",
      "metadata": {
        "id": "5Xbfyn7e9gcA"
      },
      "source": [
        "# # plt.figure(figsize=(20,15))\n",
        "# for i,g in enumerate(grados):\n",
        "#   # plt.subplot(3, 3, i + 1)\n",
        "#   y_hat_rango, mse_ent_grados[i], mse_valid_grados[i] = entrena_evalua(MinimosCuadradosQR(), \n",
        "#                                                                        X_ent, y_ent,\n",
        "#                                                                        X_valid, y_valid,\n",
        "#                                                                        X_test, g)\n",
        "# #   plt.plot(X_ent, y_ent, 'ro', label='Datos de entrenamiento')\n",
        "# #   plt.plot(X_valid, y_valid, 'go', label='Datos de validación')\n",
        "# #   plt.plot(X_rango, y_hat_rango, 'b', label='Modelo ajustado')\n",
        "# #   plt.xlabel('x')\n",
        "# #   plt.ylabel('y')\n",
        "# #   plt.title('Grado ' + str(g))\n",
        "# # plt.show()"
      ],
      "execution_count": null,
      "outputs": []
    },
    {
      "cell_type": "code",
      "metadata": {
        "colab": {
          "base_uri": "https://localhost:8080/",
          "height": 402
        },
        "id": "DyWdAhoAR9pH",
        "outputId": "fd774c2f-f501-4378-9b7f-9c4c1accac5d"
      },
      "source": [
        "X_train"
      ],
      "execution_count": null,
      "outputs": [
        {
          "output_type": "execute_result",
          "data": {
            "text/html": [
              "<div>\n",
              "<style scoped>\n",
              "    .dataframe tbody tr th:only-of-type {\n",
              "        vertical-align: middle;\n",
              "    }\n",
              "\n",
              "    .dataframe tbody tr th {\n",
              "        vertical-align: top;\n",
              "    }\n",
              "\n",
              "    .dataframe thead th {\n",
              "        text-align: right;\n",
              "    }\n",
              "</style>\n",
              "<table border=\"1\" class=\"dataframe\">\n",
              "  <thead>\n",
              "    <tr style=\"text-align: right;\">\n",
              "      <th></th>\n",
              "      <th>CRIM</th>\n",
              "      <th>ZN</th>\n",
              "      <th>INDUS</th>\n",
              "      <th>CHAS</th>\n",
              "      <th>NOX</th>\n",
              "      <th>RM</th>\n",
              "      <th>AGE</th>\n",
              "      <th>DIS</th>\n",
              "      <th>RAD</th>\n",
              "      <th>TAX</th>\n",
              "      <th>PTRATIO</th>\n",
              "      <th>B</th>\n",
              "      <th>LSTAT</th>\n",
              "    </tr>\n",
              "  </thead>\n",
              "  <tbody>\n",
              "    <tr>\n",
              "      <th>459</th>\n",
              "      <td>6.80117</td>\n",
              "      <td>0.0</td>\n",
              "      <td>18.10</td>\n",
              "      <td>0.0</td>\n",
              "      <td>0.7130</td>\n",
              "      <td>6.081</td>\n",
              "      <td>84.4</td>\n",
              "      <td>2.7175</td>\n",
              "      <td>24.0</td>\n",
              "      <td>666.0</td>\n",
              "      <td>20.2</td>\n",
              "      <td>396.90</td>\n",
              "      <td>14.70</td>\n",
              "    </tr>\n",
              "    <tr>\n",
              "      <th>46</th>\n",
              "      <td>0.18836</td>\n",
              "      <td>0.0</td>\n",
              "      <td>6.91</td>\n",
              "      <td>0.0</td>\n",
              "      <td>0.4480</td>\n",
              "      <td>5.786</td>\n",
              "      <td>33.3</td>\n",
              "      <td>5.1004</td>\n",
              "      <td>3.0</td>\n",
              "      <td>233.0</td>\n",
              "      <td>17.9</td>\n",
              "      <td>396.90</td>\n",
              "      <td>14.15</td>\n",
              "    </tr>\n",
              "    <tr>\n",
              "      <th>50</th>\n",
              "      <td>0.08873</td>\n",
              "      <td>21.0</td>\n",
              "      <td>5.64</td>\n",
              "      <td>0.0</td>\n",
              "      <td>0.4390</td>\n",
              "      <td>5.963</td>\n",
              "      <td>45.7</td>\n",
              "      <td>6.8147</td>\n",
              "      <td>4.0</td>\n",
              "      <td>243.0</td>\n",
              "      <td>16.8</td>\n",
              "      <td>395.56</td>\n",
              "      <td>13.45</td>\n",
              "    </tr>\n",
              "    <tr>\n",
              "      <th>308</th>\n",
              "      <td>0.49298</td>\n",
              "      <td>0.0</td>\n",
              "      <td>9.90</td>\n",
              "      <td>0.0</td>\n",
              "      <td>0.5440</td>\n",
              "      <td>6.635</td>\n",
              "      <td>82.5</td>\n",
              "      <td>3.3175</td>\n",
              "      <td>4.0</td>\n",
              "      <td>304.0</td>\n",
              "      <td>18.4</td>\n",
              "      <td>396.90</td>\n",
              "      <td>4.54</td>\n",
              "    </tr>\n",
              "    <tr>\n",
              "      <th>19</th>\n",
              "      <td>0.72580</td>\n",
              "      <td>0.0</td>\n",
              "      <td>8.14</td>\n",
              "      <td>0.0</td>\n",
              "      <td>0.5380</td>\n",
              "      <td>5.727</td>\n",
              "      <td>69.5</td>\n",
              "      <td>3.7965</td>\n",
              "      <td>4.0</td>\n",
              "      <td>307.0</td>\n",
              "      <td>21.0</td>\n",
              "      <td>390.95</td>\n",
              "      <td>11.28</td>\n",
              "    </tr>\n",
              "    <tr>\n",
              "      <th>...</th>\n",
              "      <td>...</td>\n",
              "      <td>...</td>\n",
              "      <td>...</td>\n",
              "      <td>...</td>\n",
              "      <td>...</td>\n",
              "      <td>...</td>\n",
              "      <td>...</td>\n",
              "      <td>...</td>\n",
              "      <td>...</td>\n",
              "      <td>...</td>\n",
              "      <td>...</td>\n",
              "      <td>...</td>\n",
              "      <td>...</td>\n",
              "    </tr>\n",
              "    <tr>\n",
              "      <th>343</th>\n",
              "      <td>0.02543</td>\n",
              "      <td>55.0</td>\n",
              "      <td>3.78</td>\n",
              "      <td>0.0</td>\n",
              "      <td>0.4840</td>\n",
              "      <td>6.696</td>\n",
              "      <td>56.4</td>\n",
              "      <td>5.7321</td>\n",
              "      <td>5.0</td>\n",
              "      <td>370.0</td>\n",
              "      <td>17.6</td>\n",
              "      <td>396.90</td>\n",
              "      <td>7.18</td>\n",
              "    </tr>\n",
              "    <tr>\n",
              "      <th>359</th>\n",
              "      <td>4.26131</td>\n",
              "      <td>0.0</td>\n",
              "      <td>18.10</td>\n",
              "      <td>0.0</td>\n",
              "      <td>0.7700</td>\n",
              "      <td>6.112</td>\n",
              "      <td>81.3</td>\n",
              "      <td>2.5091</td>\n",
              "      <td>24.0</td>\n",
              "      <td>666.0</td>\n",
              "      <td>20.2</td>\n",
              "      <td>390.74</td>\n",
              "      <td>12.67</td>\n",
              "    </tr>\n",
              "    <tr>\n",
              "      <th>323</th>\n",
              "      <td>0.28392</td>\n",
              "      <td>0.0</td>\n",
              "      <td>7.38</td>\n",
              "      <td>0.0</td>\n",
              "      <td>0.4930</td>\n",
              "      <td>5.708</td>\n",
              "      <td>74.3</td>\n",
              "      <td>4.7211</td>\n",
              "      <td>5.0</td>\n",
              "      <td>287.0</td>\n",
              "      <td>19.6</td>\n",
              "      <td>391.13</td>\n",
              "      <td>11.74</td>\n",
              "    </tr>\n",
              "    <tr>\n",
              "      <th>280</th>\n",
              "      <td>0.03578</td>\n",
              "      <td>20.0</td>\n",
              "      <td>3.33</td>\n",
              "      <td>0.0</td>\n",
              "      <td>0.4429</td>\n",
              "      <td>7.820</td>\n",
              "      <td>64.5</td>\n",
              "      <td>4.6947</td>\n",
              "      <td>5.0</td>\n",
              "      <td>216.0</td>\n",
              "      <td>14.9</td>\n",
              "      <td>387.31</td>\n",
              "      <td>3.76</td>\n",
              "    </tr>\n",
              "    <tr>\n",
              "      <th>8</th>\n",
              "      <td>0.21124</td>\n",
              "      <td>12.5</td>\n",
              "      <td>7.87</td>\n",
              "      <td>0.0</td>\n",
              "      <td>0.5240</td>\n",
              "      <td>5.631</td>\n",
              "      <td>100.0</td>\n",
              "      <td>6.0821</td>\n",
              "      <td>5.0</td>\n",
              "      <td>311.0</td>\n",
              "      <td>15.2</td>\n",
              "      <td>386.63</td>\n",
              "      <td>29.93</td>\n",
              "    </tr>\n",
              "  </tbody>\n",
              "</table>\n",
              "<p>379 rows × 13 columns</p>\n",
              "</div>"
            ],
            "text/plain": [
              "        CRIM    ZN  INDUS  CHAS     NOX  ...   RAD    TAX  PTRATIO       B  LSTAT\n",
              "459  6.80117   0.0  18.10   0.0  0.7130  ...  24.0  666.0     20.2  396.90  14.70\n",
              "46   0.18836   0.0   6.91   0.0  0.4480  ...   3.0  233.0     17.9  396.90  14.15\n",
              "50   0.08873  21.0   5.64   0.0  0.4390  ...   4.0  243.0     16.8  395.56  13.45\n",
              "308  0.49298   0.0   9.90   0.0  0.5440  ...   4.0  304.0     18.4  396.90   4.54\n",
              "19   0.72580   0.0   8.14   0.0  0.5380  ...   4.0  307.0     21.0  390.95  11.28\n",
              "..       ...   ...    ...   ...     ...  ...   ...    ...      ...     ...    ...\n",
              "343  0.02543  55.0   3.78   0.0  0.4840  ...   5.0  370.0     17.6  396.90   7.18\n",
              "359  4.26131   0.0  18.10   0.0  0.7700  ...  24.0  666.0     20.2  390.74  12.67\n",
              "323  0.28392   0.0   7.38   0.0  0.4930  ...   5.0  287.0     19.6  391.13  11.74\n",
              "280  0.03578  20.0   3.33   0.0  0.4429  ...   5.0  216.0     14.9  387.31   3.76\n",
              "8    0.21124  12.5   7.87   0.0  0.5240  ...   5.0  311.0     15.2  386.63  29.93\n",
              "\n",
              "[379 rows x 13 columns]"
            ]
          },
          "metadata": {
            "tags": []
          },
          "execution_count": 35
        }
      ]
    },
    {
      "cell_type": "code",
      "metadata": {
        "id": "SRIceOMnRoof"
      },
      "source": [
        "grados = np.arange(1,20,1)\n",
        "ecm_ent_grados = np.zeros((grados.shape[0], 50))\n",
        "ecm_val_grados = np.zeros((grados.shape[0], 50))\n",
        "ecm_test_grados =  np.zeros((grados.shape[0]))\n",
        "\n",
        "for i,g in enumerate(grados):\n",
        "  for j,k,l, X_ent, y_ent, X_val, y_val in vcrep_kpart(X_train.values, y_train.values, r=10, k=5):\n",
        "    rl = MinimosCuadradosQR()\n",
        "    ecm_ent_grados[i,l], ecm_val_grados[i,l], m, es = entrena_evalua(rl, X_ent, y_ent,\n",
        "                                                              X_val, y_val, g)\n",
        "    ecm_test_grados[i] = ecm(y_test, m.predict(expol(es.transform(X_test), g)))"
      ],
      "execution_count": null,
      "outputs": []
    },
    {
      "cell_type": "code",
      "metadata": {
        "colab": {
          "base_uri": "https://localhost:8080/",
          "height": 283
        },
        "id": "JM6ZilSH-V9K",
        "outputId": "1dd4a058-72f3-4ed8-a77b-8a3a88f2f71f"
      },
      "source": [
        "ent_media_rl = np.mean(ecm_ent_grados, axis=1)\n",
        "ent_std_rl = np.std(ecm_ent_grados, axis=1)\n",
        "\n",
        "val_media_rl = np.mean(ecm_val_grados, axis=1)\n",
        "val_std_rl = np.std(ecm_val_grados, axis=1)\n",
        "    \n",
        "plt.fill_between(grados, ent_media_rl - ent_std_rl,\n",
        "                  ent_media_rl + ent_std_rl, alpha=0.1,\n",
        "                  color=\"r\")\n",
        "plt.fill_between(grados, val_media_rl - val_std_rl,\n",
        "                  val_media_rl + val_std_rl, alpha=0.1,\n",
        "                  color=\"b\")\n",
        "\n",
        "plt.plot(grados, ecm_ent_grados.mean(axis=1), 'o-', color=\"r\",\n",
        "         label=\"Entrenamiento\")\n",
        "plt.plot(grados, ecm_val_grados.mean(axis=1), 'o-', color=\"b\",\n",
        "         label=u\"Validación\")\n",
        "plt.plot(grados, ecm_test_grados, 'o-', color=\"g\",\n",
        "         label=u\"Test\")\n",
        "\n",
        "plt.xticks(grados)\n",
        "plt.xlabel('Grados de polinomio (complejidad)')\n",
        "plt.ylabel('Error cuadrático medio')\n",
        "plt.ylim([0, 2000])\n",
        "plt.legend()\n",
        "plt.show()\n",
        "\n"
      ],
      "execution_count": null,
      "outputs": [
        {
          "output_type": "display_data",
          "data": {
            "image/png": "[encoded data removed]",
            "text/plain": [
              "<Figure size 432x288 with 1 Axes>"
            ]
          },
          "metadata": {
            "tags": [],
            "needs_background": "light"
          }
        }
      ]
    },
    {
      "cell_type": "code",
      "metadata": {
        "id": "Bgra_fsdHu-i"
      },
      "source": [
        "class MinimosCuadradosL2(RegresionLineal):\n",
        "  def __init__(self, lc = 0.01):\n",
        "    self._lc = lc\n",
        "\n",
        "  def _estima_parametros(self, X, y):\n",
        "    lcI = self._lc * np.identity(X.shape[1])\n",
        "    self.parameters = np.linalg.inv(lcI + X.T @ X) @ X.T @ y\n",
        "\n",
        "\n",
        "class MinimosCuadradosL2QR(RegresionLineal):\n",
        "  def __init__(self, lc = 0.01):\n",
        "    self._lc = lc\n",
        "\n",
        "  def _estima_parametros(self, X, y):\n",
        "    lcI = np.sqrt(self._lc * np.identity(X.shape[1]))\n",
        "    X_tilde = np.concatenate((X, lcI))\n",
        "    y_tilde = np.concatenate((y, np.zeros(X.shape[1])))\n",
        "    q, r = np.linalg.qr(X_tilde)\n",
        "    self.parameters = np.linalg.inv(r) @ q.T @ y_tilde\n",
        "\n"
      ],
      "execution_count": null,
      "outputs": []
    },
    {
      "cell_type": "code",
      "metadata": {
        "id": "kkYt8lSnIrjr"
      },
      "source": [
        "n_exp = 11\n",
        "lcs = 1/np.power([5]*n_exp,  np.arange(0, n_exp))"
      ],
      "execution_count": null,
      "outputs": []
    },
    {
      "cell_type": "code",
      "metadata": {
        "id": "FM0pRICo9rIg"
      },
      "source": [
        "lambdas = np.geomspace(1e-22, 1e20, num=7)\n",
        "ecm_ent_lambas = np.zeros((lambdas.shape[0], 50))\n",
        "ecm_val_lambas = np.zeros((lambdas.shape[0], 50))\n",
        "ecm_test_lambas =  np.zeros((lambdas.shape[0]))\n",
        "for i, lc in enumerate(lambdas):\n",
        "  for j,k,l, X_ent, y_ent, X_val, y_val in vcrep_kpart(X_train.values, y_train.values, r=10, k=5):\n",
        "    rl = MinimosCuadradosL2QR(lc = lc)\n",
        "    ecm_ent_lambas[i,l], ecm_val_lambas[i,l], m, es = entrena_evalua(rl, X_ent, y_ent,\n",
        "                                                              X_val, y_val, 20)\n",
        "    ecm_test_lambas[i] = ecm(y_test, m.predict(expol(es.transform(X_test), 20)))\n",
        "\n",
        "ent_media_rl = np.mean(ecm_ent_lambas, axis=1)\n",
        "ent_std_rl = np.std(ecm_ent_lambas, axis=1)\n",
        "\n",
        "val_media_rl = np.mean(ecm_val_lambas, axis=1)\n",
        "val_std_rl = np.std(ecm_val_lambas, axis=1)\n"
      ],
      "execution_count": null,
      "outputs": []
    },
    {
      "cell_type": "code",
      "metadata": {
        "id": "-hUT1p6R9uQt",
        "colab": {
          "base_uri": "https://localhost:8080/",
          "height": 296
        },
        "outputId": "64d52d63-c5c0-4eb3-f136-7a22a72cafd9"
      },
      "source": [
        "\n",
        "    \n",
        "plt.fill_between(lambdas, ent_media_rl - ent_std_rl,\n",
        "                  ent_media_rl + ent_std_rl, alpha=0.1,\n",
        "                  color=\"r\")\n",
        "plt.fill_between(lambdas, val_media_rl - val_std_rl,\n",
        "                  val_media_rl + val_std_rl, alpha=0.1,\n",
        "                  color=\"b\")\n",
        "\n",
        "plt.plot(lambdas, ecm_ent_lambas.mean(axis=1), 'o-', color=\"r\",\n",
        "        label=\"Entrenamiento\")\n",
        "plt.plot(lambdas, ecm_val_lambas.mean(axis=1), 'o-', color=\"b\",\n",
        "        label=u\"Validación\")\n",
        "plt.plot(lambdas, ecm_test_lambas, 'o-', color=\"g\",\n",
        "        label=u\"Test\")\n",
        "\n",
        "plt.xticks(lambdas)\n",
        "plt.xlabel('$\\lambda$')\n",
        "plt.xscale('log')\n",
        "plt.ylabel('Error cuadrático medio')\n",
        "#   plt.ylim([0, 2000])\n",
        "plt.legend()\n",
        "plt.show()\n"
      ],
      "execution_count": null,
      "outputs": [
        {
          "output_type": "display_data",
          "data": {
            "image/png": "[encoded data removed]",
            "text/plain": [
              "<Figure size 432x288 with 1 Axes>"
            ]
          },
          "metadata": {
            "tags": [],
            "needs_background": "light"
          }
        }
      ]
    },
    {
      "cell_type": "code",
      "metadata": {
        "colab": {
          "base_uri": "https://localhost:8080/"
        },
        "id": "BG8r_LthH8bF",
        "outputId": "0663218b-88df-4cc3-da69-5459ef5f4d91"
      },
      "source": [
        "from sklearn.linear_model import Lasso\n",
        "lambdas = np.geomspace(1e-22, 1e20, num=7)\n",
        "ecm_ent_lambas = np.zeros((lambdas.shape[0], 50))\n",
        "ecm_val_lambas = np.zeros((lambdas.shape[0], 50))\n",
        "ecm_test_lambas =  np.zeros((lambdas.shape[0]))\n",
        "for i, lc in enumerate(lambdas):\n",
        "  for j,k,l, X_ent, y_ent, X_val, y_val in vcrep_kpart(X_train.values, y_train.values, r=10, k=5):\n",
        "    rl = Lasso(alpha=lc, tol=0.08, max_iter = 2000)\n",
        "    ecm_ent_lambas[i,l], ecm_val_lambas[i,l], m, es = entrena_evalua(rl, X_ent, y_ent,\n",
        "                                                              X_val, y_val, 20)\n",
        "    ecm_test_lambas[i] = ecm(y_test, m.predict(expol(es.transform(X_test), 20)))\n",
        "\n",
        "ent_media_rl = np.mean(ecm_ent_lambas, axis=1)\n",
        "ent_std_rl = np.std(ecm_ent_lambas, axis=1)\n",
        "\n",
        "val_media_rl = np.mean(ecm_val_lambas, axis=1)\n",
        "val_std_rl = np.std(ecm_val_lambas, axis=1)\n"
      ],
      "execution_count": null,
      "outputs": [
        {
          "output_type": "stream",
          "text": [
            "/usr/local/lib/python3.7/dist-packages/sklearn/linear_model/_coordinate_descent.py:476: ConvergenceWarning: Objective did not converge. You might want to increase the number of iterations. Duality gap: 46191.505772685356, tolerance: 13935.156776315791\n",
            "  positive)\n",
            "/usr/local/lib/python3.7/dist-packages/sklearn/linear_model/_coordinate_descent.py:476: ConvergenceWarning: Objective did not converge. You might want to increase the number of iterations. Duality gap: 48225.44820704051, tolerance: 13323.62710526316\n",
            "  positive)\n",
            "/usr/local/lib/python3.7/dist-packages/sklearn/linear_model/_coordinate_descent.py:476: ConvergenceWarning: Objective did not converge. You might want to increase the number of iterations. Duality gap: 37501.84199587723, tolerance: 12538.918881578944\n",
            "  positive)\n",
            "/usr/local/lib/python3.7/dist-packages/sklearn/linear_model/_coordinate_descent.py:476: ConvergenceWarning: Objective did not converge. You might want to increase the number of iterations. Duality gap: 39424.38356376695, tolerance: 11863.329407894737\n",
            "  positive)\n",
            "/usr/local/lib/python3.7/dist-packages/sklearn/linear_model/_coordinate_descent.py:476: ConvergenceWarning: Objective did not converge. You might want to increase the number of iterations. Duality gap: 36056.536098254146, tolerance: 12162.728881578952\n",
            "  positive)\n",
            "/usr/local/lib/python3.7/dist-packages/sklearn/linear_model/_coordinate_descent.py:476: ConvergenceWarning: Objective did not converge. You might want to increase the number of iterations. Duality gap: 37730.02979671825, tolerance: 12222.584671052635\n",
            "  positive)\n",
            "/usr/local/lib/python3.7/dist-packages/sklearn/linear_model/_coordinate_descent.py:476: ConvergenceWarning: Objective did not converge. You might want to increase the number of iterations. Duality gap: 43862.704170531826, tolerance: 12795.3547368421\n",
            "  positive)\n",
            "/usr/local/lib/python3.7/dist-packages/sklearn/linear_model/_coordinate_descent.py:476: ConvergenceWarning: Objective did not converge. You might want to increase the number of iterations. Duality gap: 40053.70859760471, tolerance: 13248.834736842105\n",
            "  positive)\n",
            "/usr/local/lib/python3.7/dist-packages/sklearn/linear_model/_coordinate_descent.py:476: ConvergenceWarning: Objective did not converge. You might want to increase the number of iterations. Duality gap: 36391.95499729693, tolerance: 11822.545197368423\n",
            "  positive)\n",
            "/usr/local/lib/python3.7/dist-packages/sklearn/linear_model/_coordinate_descent.py:476: ConvergenceWarning: Objective did not converge. You might want to increase the number of iterations. Duality gap: 46612.37499113504, tolerance: 13773.394736842107\n",
            "  positive)\n",
            "/usr/local/lib/python3.7/dist-packages/sklearn/linear_model/_coordinate_descent.py:476: ConvergenceWarning: Objective did not converge. You might want to increase the number of iterations. Duality gap: 43132.05752743848, tolerance: 13238.468881578949\n",
            "  positive)\n",
            "/usr/local/lib/python3.7/dist-packages/sklearn/linear_model/_coordinate_descent.py:476: ConvergenceWarning: Objective did not converge. You might want to increase the number of iterations. Duality gap: 45994.715310646905, tolerance: 14272.250526315791\n",
            "  positive)\n",
            "/usr/local/lib/python3.7/dist-packages/sklearn/linear_model/_coordinate_descent.py:476: ConvergenceWarning: Objective did not converge. You might want to increase the number of iterations. Duality gap: 41667.548218425894, tolerance: 13118.962039473683\n",
            "  positive)\n",
            "/usr/local/lib/python3.7/dist-packages/sklearn/linear_model/_coordinate_descent.py:476: ConvergenceWarning: Objective did not converge. You might want to increase the number of iterations. Duality gap: 49484.148576467865, tolerance: 14745.138881578949\n",
            "  positive)\n",
            "/usr/local/lib/python3.7/dist-packages/sklearn/linear_model/_coordinate_descent.py:476: ConvergenceWarning: Objective did not converge. You might want to increase the number of iterations. Duality gap: 28559.946565670674, tolerance: 8284.090986842108\n",
            "  positive)\n",
            "/usr/local/lib/python3.7/dist-packages/sklearn/linear_model/_coordinate_descent.py:476: ConvergenceWarning: Objective did not converge. You might want to increase the number of iterations. Duality gap: 35031.00674852314, tolerance: 11806.360986842103\n",
            "  positive)\n",
            "/usr/local/lib/python3.7/dist-packages/sklearn/linear_model/_coordinate_descent.py:476: ConvergenceWarning: Objective did not converge. You might want to increase the number of iterations. Duality gap: 43165.41097075078, tolerance: 13509.994736842104\n",
            "  positive)\n",
            "/usr/local/lib/python3.7/dist-packages/sklearn/linear_model/_coordinate_descent.py:476: ConvergenceWarning: Objective did not converge. You might want to increase the number of iterations. Duality gap: 37562.20805586935, tolerance: 12073.609934210524\n",
            "  positive)\n",
            "/usr/local/lib/python3.7/dist-packages/sklearn/linear_model/_coordinate_descent.py:476: ConvergenceWarning: Objective did not converge. You might want to increase the number of iterations. Duality gap: 39237.923863846765, tolerance: 12376.79552631579\n",
            "  positive)\n",
            "/usr/local/lib/python3.7/dist-packages/sklearn/linear_model/_coordinate_descent.py:476: ConvergenceWarning: Objective did not converge. You might want to increase the number of iterations. Duality gap: 50619.3815023711, tolerance: 14053.618684210525\n",
            "  positive)\n",
            "/usr/local/lib/python3.7/dist-packages/sklearn/linear_model/_coordinate_descent.py:476: ConvergenceWarning: Objective did not converge. You might want to increase the number of iterations. Duality gap: 36276.09685133577, tolerance: 12298.119407894736\n",
            "  positive)\n",
            "/usr/local/lib/python3.7/dist-packages/sklearn/linear_model/_coordinate_descent.py:476: ConvergenceWarning: Objective did not converge. You might want to increase the number of iterations. Duality gap: 41404.4067404124, tolerance: 12692.969934210527\n",
            "  positive)\n",
            "/usr/local/lib/python3.7/dist-packages/sklearn/linear_model/_coordinate_descent.py:476: ConvergenceWarning: Objective did not converge. You might want to increase the number of iterations. Duality gap: 44194.059613345016, tolerance: 13444.380789473686\n",
            "  positive)\n",
            "/usr/local/lib/python3.7/dist-packages/sklearn/linear_model/_coordinate_descent.py:476: ConvergenceWarning: Objective did not converge. You might want to increase the number of iterations. Duality gap: 41462.21234208435, tolerance: 13254.910986842104\n",
            "  positive)\n",
            "/usr/local/lib/python3.7/dist-packages/sklearn/linear_model/_coordinate_descent.py:476: ConvergenceWarning: Objective did not converge. You might want to increase the number of iterations. Duality gap: 42717.83502372653, tolerance: 12156.669934210531\n",
            "  positive)\n",
            "/usr/local/lib/python3.7/dist-packages/sklearn/linear_model/_coordinate_descent.py:476: ConvergenceWarning: Objective did not converge. You might want to increase the number of iterations. Duality gap: 42928.65258350989, tolerance: 13033.493684210525\n",
            "  positive)\n",
            "/usr/local/lib/python3.7/dist-packages/sklearn/linear_model/_coordinate_descent.py:476: ConvergenceWarning: Objective did not converge. You might want to increase the number of iterations. Duality gap: 39801.975340455276, tolerance: 12789.08888157895\n",
            "  positive)\n",
            "/usr/local/lib/python3.7/dist-packages/sklearn/linear_model/_coordinate_descent.py:476: ConvergenceWarning: Objective did not converge. You might want to increase the number of iterations. Duality gap: 42305.214181305295, tolerance: 13304.714736842108\n",
            "  positive)\n",
            "/usr/local/lib/python3.7/dist-packages/sklearn/linear_model/_coordinate_descent.py:476: ConvergenceWarning: Objective did not converge. You might want to increase the number of iterations. Duality gap: 39257.84574356899, tolerance: 12893.399736842104\n",
            "  positive)\n",
            "/usr/local/lib/python3.7/dist-packages/sklearn/linear_model/_coordinate_descent.py:476: ConvergenceWarning: Objective did not converge. You might want to increase the number of iterations. Duality gap: 41604.64301354211, tolerance: 11867.57625\n",
            "  positive)\n",
            "/usr/local/lib/python3.7/dist-packages/sklearn/linear_model/_coordinate_descent.py:476: ConvergenceWarning: Objective did not converge. You might want to increase the number of iterations. Duality gap: 36455.39538799943, tolerance: 12277.202105263157\n",
            "  positive)\n",
            "/usr/local/lib/python3.7/dist-packages/sklearn/linear_model/_coordinate_descent.py:476: ConvergenceWarning: Objective did not converge. You might want to increase the number of iterations. Duality gap: 40473.67605675351, tolerance: 12593.449407894737\n",
            "  positive)\n",
            "/usr/local/lib/python3.7/dist-packages/sklearn/linear_model/_coordinate_descent.py:476: ConvergenceWarning: Objective did not converge. You might want to increase the number of iterations. Duality gap: 48417.33359934793, tolerance: 14369.310526315794\n",
            "  positive)\n",
            "/usr/local/lib/python3.7/dist-packages/sklearn/linear_model/_coordinate_descent.py:476: ConvergenceWarning: Objective did not converge. You might want to increase the number of iterations. Duality gap: 39185.64624875292, tolerance: 11978.414736842104\n",
            "  positive)\n",
            "/usr/local/lib/python3.7/dist-packages/sklearn/linear_model/_coordinate_descent.py:476: ConvergenceWarning: Objective did not converge. You might want to increase the number of iterations. Duality gap: 42161.80704806614, tolerance: 12576.648157894737\n",
            "  positive)\n",
            "/usr/local/lib/python3.7/dist-packages/sklearn/linear_model/_coordinate_descent.py:476: ConvergenceWarning: Objective did not converge. You might want to increase the number of iterations. Duality gap: 45141.23393734997, tolerance: 13544.599736842109\n",
            "  positive)\n",
            "/usr/local/lib/python3.7/dist-packages/sklearn/linear_model/_coordinate_descent.py:476: ConvergenceWarning: Objective did not converge. You might want to increase the number of iterations. Duality gap: 44737.58492356069, tolerance: 13350.278355263155\n",
            "  positive)\n",
            "/usr/local/lib/python3.7/dist-packages/sklearn/linear_model/_coordinate_descent.py:476: ConvergenceWarning: Objective did not converge. You might want to increase the number of iterations. Duality gap: 39350.9348353435, tolerance: 11526.300789473684\n",
            "  positive)\n",
            "/usr/local/lib/python3.7/dist-packages/sklearn/linear_model/_coordinate_descent.py:476: ConvergenceWarning: Objective did not converge. You might want to increase the number of iterations. Duality gap: 38972.1138103633, tolerance: 12672.22710526316\n",
            "  positive)\n",
            "/usr/local/lib/python3.7/dist-packages/sklearn/linear_model/_coordinate_descent.py:476: ConvergenceWarning: Objective did not converge. You might want to increase the number of iterations. Duality gap: 39984.671443225794, tolerance: 13084.919407894737\n",
            "  positive)\n",
            "/usr/local/lib/python3.7/dist-packages/sklearn/linear_model/_coordinate_descent.py:476: ConvergenceWarning: Objective did not converge. You might want to increase the number of iterations. Duality gap: 38008.92535494945, tolerance: 12686.545\n",
            "  positive)\n",
            "/usr/local/lib/python3.7/dist-packages/sklearn/linear_model/_coordinate_descent.py:476: ConvergenceWarning: Objective did not converge. You might want to increase the number of iterations. Duality gap: 37144.782403333746, tolerance: 11593.536776315788\n",
            "  positive)\n",
            "/usr/local/lib/python3.7/dist-packages/sklearn/linear_model/_coordinate_descent.py:476: ConvergenceWarning: Objective did not converge. You might want to increase the number of iterations. Duality gap: 36125.08295301958, tolerance: 11739.058947368418\n",
            "  positive)\n",
            "/usr/local/lib/python3.7/dist-packages/sklearn/linear_model/_coordinate_descent.py:476: ConvergenceWarning: Objective did not converge. You might want to increase the number of iterations. Duality gap: 44581.15282096612, tolerance: 13180.563157894738\n",
            "  positive)\n",
            "/usr/local/lib/python3.7/dist-packages/sklearn/linear_model/_coordinate_descent.py:476: ConvergenceWarning: Objective did not converge. You might want to increase the number of iterations. Duality gap: 50621.82497733689, tolerance: 14659.064671052634\n",
            "  positive)\n",
            "/usr/local/lib/python3.7/dist-packages/sklearn/linear_model/_coordinate_descent.py:476: ConvergenceWarning: Objective did not converge. You might want to increase the number of iterations. Duality gap: 45775.86213718172, tolerance: 13834.079407894733\n",
            "  positive)\n",
            "/usr/local/lib/python3.7/dist-packages/sklearn/linear_model/_coordinate_descent.py:476: ConvergenceWarning: Objective did not converge. You might want to increase the number of iterations. Duality gap: 44067.973284713225, tolerance: 13167.884671052634\n",
            "  positive)\n",
            "/usr/local/lib/python3.7/dist-packages/sklearn/linear_model/_coordinate_descent.py:476: ConvergenceWarning: Objective did not converge. You might want to increase the number of iterations. Duality gap: 36961.536023937355, tolerance: 11021.789407894737\n",
            "  positive)\n",
            "/usr/local/lib/python3.7/dist-packages/sklearn/linear_model/_coordinate_descent.py:476: ConvergenceWarning: Objective did not converge. You might want to increase the number of iterations. Duality gap: 32913.86975310274, tolerance: 12073.968421052634\n",
            "  positive)\n",
            "/usr/local/lib/python3.7/dist-packages/sklearn/linear_model/_coordinate_descent.py:476: ConvergenceWarning: Objective did not converge. You might want to increase the number of iterations. Duality gap: 46893.658369099336, tolerance: 13811.680986842108\n",
            "  positive)\n",
            "/usr/local/lib/python3.7/dist-packages/sklearn/linear_model/_coordinate_descent.py:476: ConvergenceWarning: Objective did not converge. You might want to increase the number of iterations. Duality gap: 56251.9656651845, tolerance: 13213.555197368418\n",
            "  positive)\n",
            "/usr/local/lib/python3.7/dist-packages/sklearn/linear_model/_coordinate_descent.py:476: ConvergenceWarning: Objective did not converge. You might want to increase the number of iterations. Duality gap: 66349.30881037888, tolerance: 13861.985197368427\n",
            "  positive)\n",
            "/usr/local/lib/python3.7/dist-packages/sklearn/linear_model/_coordinate_descent.py:476: ConvergenceWarning: Objective did not converge. You might want to increase the number of iterations. Duality gap: 58326.61238941421, tolerance: 12233.018684210527\n",
            "  positive)\n",
            "/usr/local/lib/python3.7/dist-packages/sklearn/linear_model/_coordinate_descent.py:476: ConvergenceWarning: Objective did not converge. You might want to increase the number of iterations. Duality gap: 25826.937257133104, tolerance: 13230.06625\n",
            "  positive)\n",
            "/usr/local/lib/python3.7/dist-packages/sklearn/linear_model/_coordinate_descent.py:476: ConvergenceWarning: Objective did not converge. You might want to increase the number of iterations. Duality gap: 67395.34716717017, tolerance: 13232.786250000001\n",
            "  positive)\n",
            "/usr/local/lib/python3.7/dist-packages/sklearn/linear_model/_coordinate_descent.py:476: ConvergenceWarning: Objective did not converge. You might want to increase the number of iterations. Duality gap: 57010.311094451885, tolerance: 12223.932039473686\n",
            "  positive)\n",
            "/usr/local/lib/python3.7/dist-packages/sklearn/linear_model/_coordinate_descent.py:476: ConvergenceWarning: Objective did not converge. You might want to increase the number of iterations. Duality gap: 56057.04199366272, tolerance: 12125.060789473686\n",
            "  positive)\n",
            "/usr/local/lib/python3.7/dist-packages/sklearn/linear_model/_coordinate_descent.py:476: ConvergenceWarning: Objective did not converge. You might want to increase the number of iterations. Duality gap: 61034.49428144489, tolerance: 13280.835526315788\n",
            "  positive)\n",
            "/usr/local/lib/python3.7/dist-packages/sklearn/linear_model/_coordinate_descent.py:476: ConvergenceWarning: Objective did not converge. You might want to increase the number of iterations. Duality gap: 69854.07691438319, tolerance: 12704.56835526316\n",
            "  positive)\n",
            "/usr/local/lib/python3.7/dist-packages/sklearn/linear_model/_coordinate_descent.py:476: ConvergenceWarning: Objective did not converge. You might want to increase the number of iterations. Duality gap: 71098.79487070162, tolerance: 12964.87368421053\n",
            "  positive)\n",
            "/usr/local/lib/python3.7/dist-packages/sklearn/linear_model/_coordinate_descent.py:476: ConvergenceWarning: Objective did not converge. You might want to increase the number of iterations. Duality gap: 53579.28503700746, tolerance: 12081.618684210525\n",
            "  positive)\n",
            "/usr/local/lib/python3.7/dist-packages/sklearn/linear_model/_coordinate_descent.py:476: ConvergenceWarning: Objective did not converge. You might want to increase the number of iterations. Duality gap: 73997.6331881839, tolerance: 13096.640986842103\n",
            "  positive)\n",
            "/usr/local/lib/python3.7/dist-packages/sklearn/linear_model/_coordinate_descent.py:476: ConvergenceWarning: Objective did not converge. You might want to increase the number of iterations. Duality gap: 55386.40971161511, tolerance: 12086.135789473681\n",
            "  positive)\n",
            "/usr/local/lib/python3.7/dist-packages/sklearn/linear_model/_coordinate_descent.py:476: ConvergenceWarning: Objective did not converge. You might want to increase the number of iterations. Duality gap: 52437.24363761796, tolerance: 11843.202105263155\n",
            "  positive)\n",
            "/usr/local/lib/python3.7/dist-packages/sklearn/linear_model/_coordinate_descent.py:476: ConvergenceWarning: Objective did not converge. You might want to increase the number of iterations. Duality gap: 74129.68603071112, tolerance: 13325.357631578949\n",
            "  positive)\n",
            "/usr/local/lib/python3.7/dist-packages/sklearn/linear_model/_coordinate_descent.py:476: ConvergenceWarning: Objective did not converge. You might want to increase the number of iterations. Duality gap: 70997.85707856076, tolerance: 12996.483947368426\n",
            "  positive)\n",
            "/usr/local/lib/python3.7/dist-packages/sklearn/linear_model/_coordinate_descent.py:476: ConvergenceWarning: Objective did not converge. You might want to increase the number of iterations. Duality gap: 58028.69419683544, tolerance: 12772.035526315794\n",
            "  positive)\n",
            "/usr/local/lib/python3.7/dist-packages/sklearn/linear_model/_coordinate_descent.py:476: ConvergenceWarning: Objective did not converge. You might want to increase the number of iterations. Duality gap: 68572.33193402889, tolerance: 12544.976776315789\n",
            "  positive)\n",
            "/usr/local/lib/python3.7/dist-packages/sklearn/linear_model/_coordinate_descent.py:476: ConvergenceWarning: Objective did not converge. You might want to increase the number of iterations. Duality gap: 54359.92024089987, tolerance: 12233.282105263157\n",
            "  positive)\n",
            "/usr/local/lib/python3.7/dist-packages/sklearn/linear_model/_coordinate_descent.py:476: ConvergenceWarning: Objective did not converge. You might want to increase the number of iterations. Duality gap: 17318.60908142985, tolerance: 13782.683947368427\n",
            "  positive)\n",
            "/usr/local/lib/python3.7/dist-packages/sklearn/linear_model/_coordinate_descent.py:476: ConvergenceWarning: Objective did not converge. You might want to increase the number of iterations. Duality gap: 20475.36364971682, tolerance: 12510.876776315794\n",
            "  positive)\n",
            "/usr/local/lib/python3.7/dist-packages/sklearn/linear_model/_coordinate_descent.py:476: ConvergenceWarning: Objective did not converge. You might want to increase the number of iterations. Duality gap: 46276.39355523776, tolerance: 11144.768157894738\n",
            "  positive)\n",
            "/usr/local/lib/python3.7/dist-packages/sklearn/linear_model/_coordinate_descent.py:476: ConvergenceWarning: Objective did not converge. You might want to increase the number of iterations. Duality gap: 66473.9330487116, tolerance: 14120.365197368417\n",
            "  positive)\n",
            "/usr/local/lib/python3.7/dist-packages/sklearn/linear_model/_coordinate_descent.py:476: ConvergenceWarning: Objective did not converge. You might want to increase the number of iterations. Duality gap: 60355.75025250802, tolerance: 12937.618355263157\n",
            "  positive)\n",
            "/usr/local/lib/python3.7/dist-packages/sklearn/linear_model/_coordinate_descent.py:476: ConvergenceWarning: Objective did not converge. You might want to increase the number of iterations. Duality gap: 67899.05656413738, tolerance: 12017.710526315788\n",
            "  positive)\n",
            "/usr/local/lib/python3.7/dist-packages/sklearn/linear_model/_coordinate_descent.py:476: ConvergenceWarning: Objective did not converge. You might want to increase the number of iterations. Duality gap: 65241.598995536006, tolerance: 13067.75263157895\n",
            "  positive)\n",
            "/usr/local/lib/python3.7/dist-packages/sklearn/linear_model/_coordinate_descent.py:476: ConvergenceWarning: Objective did not converge. You might want to increase the number of iterations. Duality gap: 60350.94884546318, tolerance: 12629.399407894738\n",
            "  positive)\n",
            "/usr/local/lib/python3.7/dist-packages/sklearn/linear_model/_coordinate_descent.py:476: ConvergenceWarning: Objective did not converge. You might want to increase the number of iterations. Duality gap: 52575.52109606994, tolerance: 11389.914671052635\n",
            "  positive)\n",
            "/usr/local/lib/python3.7/dist-packages/sklearn/linear_model/_coordinate_descent.py:476: ConvergenceWarning: Objective did not converge. You might want to increase the number of iterations. Duality gap: 77177.11032168259, tolerance: 13594.240986842105\n",
            "  positive)\n",
            "/usr/local/lib/python3.7/dist-packages/sklearn/linear_model/_coordinate_descent.py:476: ConvergenceWarning: Objective did not converge. You might want to increase the number of iterations. Duality gap: 57265.66926674408, tolerance: 13006.199736842109\n",
            "  positive)\n",
            "/usr/local/lib/python3.7/dist-packages/sklearn/linear_model/_coordinate_descent.py:476: ConvergenceWarning: Objective did not converge. You might want to increase the number of iterations. Duality gap: 54097.02011293889, tolerance: 12194.083157894738\n",
            "  positive)\n",
            "/usr/local/lib/python3.7/dist-packages/sklearn/linear_model/_coordinate_descent.py:476: ConvergenceWarning: Objective did not converge. You might want to increase the number of iterations. Duality gap: 60835.32115451773, tolerance: 11975.077631578948\n",
            "  positive)\n",
            "/usr/local/lib/python3.7/dist-packages/sklearn/linear_model/_coordinate_descent.py:476: ConvergenceWarning: Objective did not converge. You might want to increase the number of iterations. Duality gap: 70901.20131302305, tolerance: 13800.488881578944\n",
            "  positive)\n"
          ],
          "name": "stderr"
        }
      ]
    },
    {
      "cell_type": "code",
      "metadata": {
        "colab": {
          "base_uri": "https://localhost:8080/",
          "height": 296
        },
        "id": "H1eNolTmPOvn",
        "outputId": "04555d9e-5ae7-4569-f900-524e631b6345"
      },
      "source": [
        "plt.fill_between(lambdas, ent_media_rl - ent_std_rl,\n",
        "                  ent_media_rl + ent_std_rl, alpha=0.1,\n",
        "                  color=\"r\")\n",
        "plt.fill_between(lambdas, val_media_rl - val_std_rl,\n",
        "                  val_media_rl + val_std_rl, alpha=0.1,\n",
        "                  color=\"b\")\n",
        "\n",
        "plt.plot(lambdas, ecm_ent_lambas.mean(axis=1), 'o-', color=\"r\",\n",
        "        label=\"Entrenamiento\")\n",
        "plt.plot(lambdas, ecm_val_lambas.mean(axis=1), 'o-', color=\"b\",\n",
        "        label=u\"Validación\")\n",
        "plt.plot(lambdas, ecm_test_lambas, 'o-', color=\"g\",\n",
        "        label=u\"Test\")\n",
        "\n",
        "plt.xticks(lambdas)\n",
        "plt.xlabel('$\\lambda$')\n",
        "plt.xscale('log')\n",
        "plt.ylabel('Error cuadrático medio')\n",
        "#   plt.ylim([0, 2000])\n",
        "plt.legend()\n",
        "plt.show()\n"
      ],
      "execution_count": null,
      "outputs": [
        {
          "output_type": "display_data",
          "data": {
            "image/png": "[encoded data removed]",
            "text/plain": [
              "<Figure size 432x288 with 1 Axes>"
            ]
          },
          "metadata": {
            "tags": [],
            "needs_background": "light"
          }
        }
      ]
    },
    {
      "cell_type": "code",
      "metadata": {
        "id": "VF7VJ8GaUQwY"
      },
      "source": [
        "from sklearn.linear_model import Lasso\n",
        "columnas = np.random.choice(X_test.columns, len(X_train.columns))\n",
        "ecm_ent_columnas = np.zeros((columnas.shape[0], 50))\n",
        "ecm_val_columnas = np.zeros((columnas.shape[0], 50))\n",
        "ecm_test_columnas =  np.zeros((columnas.shape[0]))\n",
        "for i in range(0, len(columnas)):\n",
        "  for j,k,l, X_ent, y_ent, X_val, y_val in vcrep_kpart(X_train[columnas[:(i+1)]].values, y_train.values, r=10, k=5):\n",
        "    rl = Lasso(alpha=lc, tol=0.08, max_iter = 2000, random_state=100)\n",
        "    ecm_ent_columnas[i,l], ecm_val_columnas[i,l], m, es = entrena_evalua(rl, X_ent, y_ent,\n",
        "                                                              X_val, y_val, 2)\n",
        "    ecm_test_columnas[i] = ecm(y_test, m.predict(expol(es.transform(X_test[columnas[:(i+1)]]), 2)))\n",
        "\n",
        "ent_media_rl = np.mean(ecm_ent_columnas, axis=1)\n",
        "ent_std_rl = np.std(ecm_ent_columnas, axis=1)\n",
        "\n",
        "val_media_rl = np.mean(ecm_val_columnas, axis=1)\n",
        "val_std_rl = np.std(ecm_val_columnas, axis=1)\n"
      ],
      "execution_count": null,
      "outputs": []
    },
    {
      "cell_type": "code",
      "metadata": {
        "id": "1ZnFiqZqY_vh"
      },
      "source": [
        "columnas = \"_\" + columnas \n",
        "columnas = np.arange(len(columnas)).astype(str) + columnas\n"
      ],
      "execution_count": null,
      "outputs": []
    },
    {
      "cell_type": "code",
      "metadata": {
        "id": "DCFkJNZFXp57"
      },
      "source": [
        "# columnas = np.arange(len(columnas))"
      ],
      "execution_count": null,
      "outputs": []
    },
    {
      "cell_type": "code",
      "metadata": {
        "id": "B7J1D2LGUvDQ",
        "colab": {
          "base_uri": "https://localhost:8080/",
          "height": 328
        },
        "outputId": "df807245-5efc-45b9-e615-c244265055ff"
      },
      "source": [
        "plt.fill_between(columnas, ent_media_rl - ent_std_rl,\n",
        "                  ent_media_rl + ent_std_rl, alpha=0.1,\n",
        "                  color=\"r\")\n",
        "plt.fill_between(columnas, val_media_rl - val_std_rl,\n",
        "                  val_media_rl + val_std_rl, alpha=0.1,\n",
        "                  color=\"b\")\n",
        "\n",
        "plt.plot(columnas, ecm_ent_columnas.mean(axis=1), 'o-', color=\"r\",\n",
        "        label=\"Entrenamiento\")\n",
        "plt.plot(columnas, ecm_val_columnas.mean(axis=1), 'o-', color=\"b\",\n",
        "        label=u\"Validación\")\n",
        "plt.plot(columnas, ecm_test_columnas, 'o-', color=\"g\",\n",
        "        label=u\"Test\")\n",
        "\n",
        "plt.xticks(columnas, rotation = 90)\n",
        "plt.xlabel('$\\lambda$')\n",
        "plt.ylabel('Error cuadrático medio')\n",
        "plt.ylim([500, 600])\n",
        "plt.legend()\n",
        "plt.show()\n"
      ],
      "execution_count": null,
      "outputs": [
        {
          "output_type": "display_data",
          "data": {
            "image/png": "[encoded data removed]",
            "text/plain": [
              "<Figure size 432x288 with 1 Axes>"
            ]
          },
          "metadata": {
            "tags": [],
            "needs_background": "light"
          }
        }
      ]
    },
    {
      "cell_type": "markdown",
      "metadata": {
        "id": "58lwz7_d35kq"
      },
      "source": [
        "## Ejercicio 2"
      ]
    },
    {
      "cell_type": "code",
      "metadata": {
        "id": "T8-MVU3DW8BN"
      },
      "source": [
        "from scipy.special import logsumexp\n",
        "from sklearn.metrics import confusion_matrix"
      ],
      "execution_count": null,
      "outputs": []
    },
    {
      "cell_type": "code",
      "metadata": {
        "id": "E74PgbrE37GH"
      },
      "source": [
        "class NBTemplate(object):\n",
        "  def __init__(self, priors = None):\n",
        "    self.priors = priors\n",
        "  \n",
        "  def __repr__(self):\n",
        "    return f'{type(self)}(priors={self.priors})'\n",
        "  \n",
        "  def predict_proba(self, X, **args):\n",
        "    return np.exp(self.predict_log_proba(X, **args))\n",
        "  \n",
        "  def predict(self, X, log_ = True):\n",
        "    if isinstance(self, GaussianNB):\n",
        "      return self.predict_log_proba(X).argmax(axis = 1)\n",
        "    else:\n",
        "      return self.predict_proba(X).argmax(axis = 1)#.idxmax().values\n",
        "  \n",
        "  def evaluate(self, X, y_true):\n",
        "      if \"values\" in dir(y_true):\n",
        "        y_true = y_true.values\n",
        "      cm = confusion_matrix(y_true, self.predict(X))\n",
        "      correctas = np.diag(cm).sum()\n",
        "      erroneas = cm.sum() - correctas\n",
        "      return(pd.DataFrame({\n",
        "          \"Correctas\":[correctas],\n",
        "          \"Erroneas\":[erroneas],\n",
        "          \"Accuracy\":[correctas/(correctas+erroneas)],\n",
        "          \"Recall\": [cm[1,1]/cm[1,:].sum()]\n",
        "      }))\n",
        "    "
      ],
      "execution_count": null,
      "outputs": []
    },
    {
      "cell_type": "code",
      "metadata": {
        "id": "NC6EXm8U3-zN"
      },
      "source": [
        "class MultinomialNB(NBTemplate):\n",
        "    def fit(self, X, y):\n",
        "        self.n_features_ = X.shape[1]\n",
        "        self.n_classes_ = len(np.unique(y))\n",
        "        self.class_count_ = np.zeros(self.n_classes_)\n",
        "        self.feature_count_ = np.zeros((self.n_classes_, self.n_features_))\n",
        "        for c in range(self.n_classes_):\n",
        "            class_rows = y == c\n",
        "            self.class_count_[c] = class_rows.sum()\n",
        "            self.feature_count_[c] = X[class_rows].sum(axis=0)\n",
        "        self.feature_prob_ = self.feature_count_ / self.feature_count_.sum(axis=1, keepdims=True)\n",
        "        smoothed_fc = self.feature_count_ + 1e-10\n",
        "        self.feature_log_prob_ = np.log(smoothed_fc) - np.log(smoothed_fc.sum(axis=1, keepdims=True))\n",
        "        self.priors_ = self.priors if self.priors is not None else self.class_count_ / X.shape[0]\n",
        "        return self\n",
        "    \n",
        "    def predict_log_proba(self, X, normalize=True):\n",
        "        log_proba = X @ self.feature_log_prob_.T + np.log(self.priors_)\n",
        "        if normalize:\n",
        "            log_proba -= logsumexp(log_proba, axis=1, keepdims=True)\n",
        "        return log_proba\n",
        "\n",
        "    def summary(self):\n",
        "      f'Prioris:\\n{self.priors_}\\nP(X_i|Y):\\n{np.exp(smnb.feature_log_prob_).T}'"
      ],
      "execution_count": null,
      "outputs": []
    },
    {
      "cell_type": "code",
      "metadata": {
        "id": "Ps_YsIFyWyxD"
      },
      "source": [
        "class GaussianNB(NBTemplate):\n",
        "    def fit(self, X, y):\n",
        "        m, n = X.shape\n",
        "        self.n_features_ = n\n",
        "        self.n_classes_ = len(np.unique(y))\n",
        "        params = {k: np.zeros((self.n_classes_, n)) for k in ('n', 'sumax', 'sumax2')}\n",
        "        for c in range(self.n_classes_):\n",
        "            class_rows = y == c\n",
        "            params['n'][c] = class_rows.sum(axis=0)\n",
        "            params['sumax'][c] = X[class_rows].sum(axis=0)\n",
        "            params['sumax2'][c] = np.square(X[class_rows]).sum(axis=0)\n",
        "        self.priors_ = params['n'].sum(axis=1) / (m*n) if self.priors is None else self.priors\n",
        "        self.means_ = params['sumax'] / params['n']\n",
        "        self.vars_ = 1 / params['n'] * (params['sumax2'] - params['n'] * np.square(self.means_)) + 1e-15\n",
        "        return self\n",
        "    \n",
        "    def predict_log_proba(self, X, normalize=True):\n",
        "        log_proba = np.zeros((X.shape[0], self.n_classes_))\n",
        "        for c in range(self.n_classes_):\n",
        "            means, variances = self.means_[c], self.vars_[c]\n",
        "            log_proba[:, c] = -0.5 * np.log(variances).sum()\n",
        "            log_proba[:, c] -= 0.5 * np.sum((X - means)**2 / variances, axis=1)\n",
        "            log_proba[:, c] += np.log(self.priors_[c])\n",
        "        if normalize:\n",
        "            log_proba -= logsumexp(log_proba, axis=1, keepdims=True)\n",
        "        return log_proba\n",
        "    def summary(self):\n",
        "        return print(f'Medias:\\n{bgnb.means_.T}\\nVarianzas:\\n{bgnb.vars_.T}\\nA prioris:\\n{bgnb.priors_}')\n"
      ],
      "execution_count": null,
      "outputs": []
    },
    {
      "cell_type": "code",
      "metadata": {
        "id": "pXJlI8QzXu97"
      },
      "source": [
        "def entrenar_bayes(model, X_ent, y_ent, X_val, y_val):\n",
        "  model.fit(X_ent, y_ent)\n",
        "  temporal = model.predict(X_ent)\n",
        "  return model.evaluate(X_ent, y_ent), model.evaluate(X_val, y_val)"
      ],
      "execution_count": null,
      "outputs": []
    },
    {
      "cell_type": "code",
      "metadata": {
        "id": "RNGfM4q7X1dq"
      },
      "source": [
        "def entrenar_logistica(model, X_ent, y_ent, X_val, y_val, escalar = True, **args):\n",
        "  if escalar:\n",
        "    es = MinMaxScaler()\n",
        "    X_ent = es.fit_transform(X_ent)\n",
        "    X_ent = es.transform(X_ent)\n",
        "  \n",
        "  ones_ent = np.ones((X_ent.shape[0], 1))\n",
        "  X_ent = np.column_stack((ones_ent, X_ent))\n",
        "\n",
        "  ones_val = np.ones(X_val.shape[0])\n",
        "  X_val = np.column_stack((ones_val, X_val))\n",
        "  tasa_ap = args.get(\"tasa_ap\", 0.02)\n",
        "  n_iter = args.get(\"n_iter\", 200)\n",
        "  ec_iris = model.fit(X_ent, y_ent, n_iter=n_iter, tasa_ap=tasa_ap)\n",
        "  score_ent = model.score(X_ent, y_ent)\n",
        "  score_val = model.score(X_val, y_val)\n",
        "  if escalar:\n",
        "    return score_ent, score_val, es\n",
        "  else:\n",
        "    return score_ent, score_val"
      ],
      "execution_count": null,
      "outputs": []
    },
    {
      "cell_type": "markdown",
      "metadata": {
        "id": "boTkeAzHGo9L"
      },
      "source": [
        "## Ejercicio 3"
      ]
    },
    {
      "cell_type": "code",
      "metadata": {
        "id": "HB45Ie-hjwxB"
      },
      "source": [
        "from sklearn.model_selection import train_test_split"
      ],
      "execution_count": null,
      "outputs": []
    },
    {
      "cell_type": "code",
      "metadata": {
        "colab": {
          "base_uri": "https://localhost:8080/",
          "height": 402
        },
        "id": "JDDeBmPNXlJt",
        "outputId": "145913a3-4e32-454f-a13f-a6cd74ec4d25"
      },
      "source": [
        "data_train = pd.read_csv(\"https://raw.githubusercontent.com/gibranfp/CursoAprendizajeAutomatizado/master/data/partidas_entrenamiento.csv\")\n",
        "data_test = pd.read_csv(\"https://raw.githubusercontent.com/gibranfp/CursoAprendizajeAutomatizado/master/data/partidas_prueba.csv\")\n",
        "\n",
        "data_train"
      ],
      "execution_count": null,
      "outputs": [
        {
          "output_type": "execute_result",
          "data": {
            "text/html": [
              "<div>\n",
              "<style scoped>\n",
              "    .dataframe tbody tr th:only-of-type {\n",
              "        vertical-align: middle;\n",
              "    }\n",
              "\n",
              "    .dataframe tbody tr th {\n",
              "        vertical-align: top;\n",
              "    }\n",
              "\n",
              "    .dataframe thead th {\n",
              "        text-align: right;\n",
              "    }\n",
              "</style>\n",
              "<table border=\"1\" class=\"dataframe\">\n",
              "  <thead>\n",
              "    <tr style=\"text-align: right;\">\n",
              "      <th></th>\n",
              "      <th>id_blancas</th>\n",
              "      <th>id_negras</th>\n",
              "      <th>ganador</th>\n",
              "    </tr>\n",
              "  </thead>\n",
              "  <tbody>\n",
              "    <tr>\n",
              "      <th>0</th>\n",
              "      <td>3</td>\n",
              "      <td>4</td>\n",
              "      <td>1</td>\n",
              "    </tr>\n",
              "    <tr>\n",
              "      <th>1</th>\n",
              "      <td>7</td>\n",
              "      <td>8</td>\n",
              "      <td>1</td>\n",
              "    </tr>\n",
              "    <tr>\n",
              "      <th>2</th>\n",
              "      <td>40</td>\n",
              "      <td>10</td>\n",
              "      <td>1</td>\n",
              "    </tr>\n",
              "    <tr>\n",
              "      <th>3</th>\n",
              "      <td>16</td>\n",
              "      <td>17</td>\n",
              "      <td>1</td>\n",
              "    </tr>\n",
              "    <tr>\n",
              "      <th>4</th>\n",
              "      <td>8</td>\n",
              "      <td>18</td>\n",
              "      <td>1</td>\n",
              "    </tr>\n",
              "    <tr>\n",
              "      <th>...</th>\n",
              "      <td>...</td>\n",
              "      <td>...</td>\n",
              "      <td>...</td>\n",
              "    </tr>\n",
              "    <tr>\n",
              "      <th>314</th>\n",
              "      <td>80</td>\n",
              "      <td>97</td>\n",
              "      <td>1</td>\n",
              "    </tr>\n",
              "    <tr>\n",
              "      <th>315</th>\n",
              "      <td>81</td>\n",
              "      <td>45</td>\n",
              "      <td>0</td>\n",
              "    </tr>\n",
              "    <tr>\n",
              "      <th>316</th>\n",
              "      <td>35</td>\n",
              "      <td>43</td>\n",
              "      <td>1</td>\n",
              "    </tr>\n",
              "    <tr>\n",
              "      <th>317</th>\n",
              "      <td>87</td>\n",
              "      <td>23</td>\n",
              "      <td>0</td>\n",
              "    </tr>\n",
              "    <tr>\n",
              "      <th>318</th>\n",
              "      <td>70</td>\n",
              "      <td>43</td>\n",
              "      <td>1</td>\n",
              "    </tr>\n",
              "  </tbody>\n",
              "</table>\n",
              "<p>319 rows × 3 columns</p>\n",
              "</div>"
            ],
            "text/plain": [
              "     id_blancas  id_negras  ganador\n",
              "0             3          4        1\n",
              "1             7          8        1\n",
              "2            40         10        1\n",
              "3            16         17        1\n",
              "4             8         18        1\n",
              "..          ...        ...      ...\n",
              "314          80         97        1\n",
              "315          81         45        0\n",
              "316          35         43        1\n",
              "317          87         23        0\n",
              "318          70         43        1\n",
              "\n",
              "[319 rows x 3 columns]"
            ]
          },
          "metadata": {
            "tags": []
          },
          "execution_count": 57
        }
      ]
    },
    {
      "cell_type": "code",
      "metadata": {
        "colab": {
          "base_uri": "https://localhost:8080/",
          "height": 859
        },
        "id": "kV0UbRgWLIPX",
        "outputId": "e68e19f7-66f4-45c2-d935-de2d380f87e0"
      },
      "source": [
        "graficar_variables(data_test)"
      ],
      "execution_count": null,
      "outputs": [
        {
          "output_type": "stream",
          "text": [
            "int64\n"
          ],
          "name": "stdout"
        },
        {
          "output_type": "display_data",
          "data": {
            "image/png": "[encoded data removed]",
            "text/plain": [
              "<Figure size 432x288 with 1 Axes>"
            ]
          },
          "metadata": {
            "tags": [],
            "needs_background": "light"
          }
        },
        {
          "output_type": "stream",
          "text": [
            "int64\n"
          ],
          "name": "stdout"
        },
        {
          "output_type": "display_data",
          "data": {
            "image/png": "[encoded data removed]",
            "text/plain": [
              "<Figure size 432x288 with 1 Axes>"
            ]
          },
          "metadata": {
            "tags": [],
            "needs_background": "light"
          }
        },
        {
          "output_type": "stream",
          "text": [
            "int64\n"
          ],
          "name": "stdout"
        },
        {
          "output_type": "display_data",
          "data": {
            "image/png": "[encoded data removed]",
            "text/plain": [
              "<Figure size 432x288 with 1 Axes>"
            ]
          },
          "metadata": {
            "tags": [],
            "needs_background": "light"
          }
        }
      ]
    },
    {
      "cell_type": "code",
      "metadata": {
        "colab": {
          "base_uri": "https://localhost:8080/",
          "height": 859
        },
        "id": "XGv-CSMyMHF3",
        "outputId": "fa73c126-9e9a-46d6-a9fa-9e674dc8f603"
      },
      "source": [
        "graficar_variables(data_train)\n"
      ],
      "execution_count": null,
      "outputs": [
        {
          "output_type": "stream",
          "text": [
            "int64\n"
          ],
          "name": "stdout"
        },
        {
          "output_type": "display_data",
          "data": {
            "image/png": "[encoded data removed]",
            "text/plain": [
              "<Figure size 432x288 with 1 Axes>"
            ]
          },
          "metadata": {
            "tags": [],
            "needs_background": "light"
          }
        },
        {
          "output_type": "stream",
          "text": [
            "int64\n"
          ],
          "name": "stdout"
        },
        {
          "output_type": "display_data",
          "data": {
            "image/png": "[encoded data removed]",
            "text/plain": [
              "<Figure size 432x288 with 1 Axes>"
            ]
          },
          "metadata": {
            "tags": [],
            "needs_background": "light"
          }
        },
        {
          "output_type": "stream",
          "text": [
            "int64\n"
          ],
          "name": "stdout"
        },
        {
          "output_type": "display_data",
          "data": {
            "image/png": "[encoded data removed]",
            "text/plain": [
              "<Figure size 432x288 with 1 Axes>"
            ]
          },
          "metadata": {
            "tags": [],
            "needs_background": "light"
          }
        }
      ]
    },
    {
      "cell_type": "code",
      "metadata": {
        "colab": {
          "base_uri": "https://localhost:8080/",
          "height": 287
        },
        "id": "vRqH8V3QMJ0N",
        "outputId": "4b27cb66-bc2c-4522-d306-9a4e4ed2a1bb"
      },
      "source": [
        "sns.heatmap(data_train.corr(method=\"kendall\"), annot = True)"
      ],
      "execution_count": null,
      "outputs": [
        {
          "output_type": "execute_result",
          "data": {
            "text/plain": [
              "<matplotlib.axes._subplots.AxesSubplot at 0x7f9bc65423d0>"
            ]
          },
          "metadata": {
            "tags": []
          },
          "execution_count": 60
        },
        {
          "output_type": "display_data",
          "data": {
            "image/png": "[encoded data removed]",
            "text/plain": [
              "<Figure size 432x288 with 2 Axes>"
            ]
          },
          "metadata": {
            "tags": [],
            "needs_background": "light"
          }
        }
      ]
    },
    {
      "cell_type": "code",
      "metadata": {
        "colab": {
          "base_uri": "https://localhost:8080/",
          "height": 287
        },
        "id": "0Z3LqDD_MZHe",
        "outputId": "54880689-4bc8-4c99-d8a9-b189429abadf"
      },
      "source": [
        "sns.heatmap(data_test.corr(method=\"kendall\"), annot = True)\n"
      ],
      "execution_count": null,
      "outputs": [
        {
          "output_type": "execute_result",
          "data": {
            "text/plain": [
              "<matplotlib.axes._subplots.AxesSubplot at 0x7f9bc64d6810>"
            ]
          },
          "metadata": {
            "tags": []
          },
          "execution_count": 61
        },
        {
          "output_type": "display_data",
          "data": {
            "image/png": "[encoded data removed]",
            "text/plain": [
              "<Figure size 432x288 with 2 Axes>"
            ]
          },
          "metadata": {
            "tags": [],
            "needs_background": "light"
          }
        }
      ]
    },
    {
      "cell_type": "code",
      "metadata": {
        "id": "M-xfNiABMh8F"
      },
      "source": [
        "def entropia_cruzada(q, y):\n",
        "  q[q==0] = np.nextafter(0,1)\n",
        "  q[q==1] = np.nextafter(1,0)\n",
        "  return np.sum(-np.log(q[np.nonzero(y)]))"
      ],
      "execution_count": null,
      "outputs": []
    },
    {
      "cell_type": "code",
      "metadata": {
        "id": "jy1ervBeniwu"
      },
      "source": [
        "def softmax(z):\n",
        "  e_z = np.exp(z - np.max(z, axis = 1)[:, np.newaxis])\n",
        "  norm = np.sum(e_z, axis = 1)\n",
        "  return e_z / norm[:, np.newaxis]"
      ],
      "execution_count": null,
      "outputs": []
    },
    {
      "cell_type": "code",
      "metadata": {
        "id": "u8CPqcE2nzTt"
      },
      "source": [
        "def gradiente(X, Y, Q): \n",
        "  return X.T @  (Q - Y)"
      ],
      "execution_count": null,
      "outputs": []
    },
    {
      "cell_type": "code",
      "metadata": {
        "id": "rIOMSIbWoBiW"
      },
      "source": [
        "def descenso_gradiente(X, y, n_iter, tasa_ap):\n",
        "  n_ej = X.shape[0]\n",
        "  d = X.shape[1]\n",
        "  n_clases = np.unique(y).size\n",
        "  \n",
        "  # Codifica clases con vectores 1-de-K\n",
        "  Y_ohe = np.zeros((n_ej, n_clases))\n",
        "  Y_ohe[np.arange(n_ej), y] = 1\n",
        "\n",
        "  # Inicializa parámetros de forma aleatoria (\"LeCun uniform\")\n",
        "  lim = np.sqrt(1 / d)\n",
        "  parametros = np.random.uniform(-lim, lim, size=(d, n_clases))\n",
        "\n",
        "  ecc = []\n",
        "  for it in range(n_iter):\n",
        "    Q = softmax(X @ parametros)\n",
        "    parametros -= tasa_ap * gradiente(X, Y_ohe, Q)\n",
        "    ecc.append(entropia_cruzada(Q, Y_ohe))\n",
        "\n",
        "  return parametros, ecc"
      ],
      "execution_count": null,
      "outputs": []
    },
    {
      "cell_type": "code",
      "metadata": {
        "id": "va_dZ2DgoJn4"
      },
      "source": [
        "def exactitud(y, y_predicha):\n",
        "  return (y == y_predicha).mean()"
      ],
      "execution_count": null,
      "outputs": []
    },
    {
      "cell_type": "code",
      "metadata": {
        "id": "yYRLD8EMoMIk"
      },
      "source": [
        "class RegLogMult:\n",
        "  def fit(self, X, y, n_iter=1000, tasa_ap=0.001):\n",
        "    self.parametros_, errores = descenso_gradiente(X, y, n_iter, tasa_ap)\n",
        "    return errores\n",
        "\n",
        "  def predict(self, X):\n",
        "    return softmax(X @ self.parametros_)\n",
        "  \n",
        "  def score(self, X, y):\n",
        "    q = self.predict(X)\n",
        "    return exactitud(y, np.argmax(q, axis=1))"
      ],
      "execution_count": null,
      "outputs": []
    },
    {
      "cell_type": "code",
      "metadata": {
        "id": "14q0WVchp2sT"
      },
      "source": [
        "## https://towardsdatascience.com/logistic-regression-from-scratch-69db4f587e17"
      ],
      "execution_count": null,
      "outputs": []
    },
    {
      "cell_type": "code",
      "metadata": {
        "id": "rSNlEGNPpqnx"
      },
      "source": [
        "from numpy import log, dot, e\n",
        "from numpy.random import rand\n",
        "\n",
        "class LogisticRegression:\n",
        "    \n",
        "    def sigmoid(self, z): return 1 / (1 + e**(-z))\n",
        "    \n",
        "    def cost_function(self, X, y, weights):                 \n",
        "        z = dot(X, weights)\n",
        "        predict_1 = y * log(self.sigmoid(z))\n",
        "        predict_0 = (1 - y) * log(1 - self.sigmoid(z))\n",
        "        return -sum(predict_1 + predict_0) / len(X)\n",
        "    \n",
        "    def fit(self, X, y, epochs=25, lr=0.05):        \n",
        "        loss = []\n",
        "        weights = rand(X.shape[1])\n",
        "        N = len(X)\n",
        "                 \n",
        "        for _ in range(epochs):        \n",
        "            # Gradient Descent\n",
        "            y_hat = self.sigmoid(dot(X, weights))\n",
        "            weights -= lr * dot(X.T,  y_hat - y) / N            \n",
        "            # Saving Progress\n",
        "            loss.append(self.cost_function(X, y, weights)) \n",
        "            \n",
        "        self.weights = weights\n",
        "        self.loss = loss\n",
        "    \n",
        "    def predict(self, X, cut = 50):        \n",
        "        # Predicting with sigmoid function\n",
        "        z = dot(X, self.weights)\n",
        "        # Returning binary result\n",
        "        return [1 if i > cut else 0 for i in self.sigmoid(z)]\n",
        "    \n",
        "    def predict_probas(selg, X):\n",
        "        z = dot(X, self.weights)\n",
        "        return z\n"
      ],
      "execution_count": null,
      "outputs": []
    },
    {
      "cell_type": "code",
      "metadata": {
        "colab": {
          "base_uri": "https://localhost:8080/",
          "height": 422
        },
        "id": "w63utIlYqRxK",
        "outputId": "f95adc72-1689-4c74-f2c2-72a041127e0a"
      },
      "source": [
        "spam_df = pd.read_csv(\"http://turing.iimas.unam.mx/~gibranfp/cursos/aprendizaje_automatizado/data/spam.csv\", sep = \" \", header = None)\n",
        "spam_df"
      ],
      "execution_count": null,
      "outputs": [
        {
          "output_type": "execute_result",
          "data": {
            "text/html": [
              "<div>\n",
              "<style scoped>\n",
              "    .dataframe tbody tr th:only-of-type {\n",
              "        vertical-align: middle;\n",
              "    }\n",
              "\n",
              "    .dataframe tbody tr th {\n",
              "        vertical-align: top;\n",
              "    }\n",
              "\n",
              "    .dataframe thead th {\n",
              "        text-align: right;\n",
              "    }\n",
              "</style>\n",
              "<table border=\"1\" class=\"dataframe\">\n",
              "  <thead>\n",
              "    <tr style=\"text-align: right;\">\n",
              "      <th></th>\n",
              "      <th>0</th>\n",
              "      <th>1</th>\n",
              "      <th>2</th>\n",
              "      <th>3</th>\n",
              "      <th>4</th>\n",
              "      <th>5</th>\n",
              "      <th>6</th>\n",
              "      <th>7</th>\n",
              "      <th>8</th>\n",
              "      <th>9</th>\n",
              "      <th>10</th>\n",
              "      <th>11</th>\n",
              "      <th>12</th>\n",
              "      <th>13</th>\n",
              "      <th>14</th>\n",
              "      <th>15</th>\n",
              "      <th>16</th>\n",
              "      <th>17</th>\n",
              "      <th>18</th>\n",
              "      <th>19</th>\n",
              "      <th>20</th>\n",
              "      <th>21</th>\n",
              "      <th>22</th>\n",
              "      <th>23</th>\n",
              "      <th>24</th>\n",
              "      <th>25</th>\n",
              "      <th>26</th>\n",
              "      <th>27</th>\n",
              "      <th>28</th>\n",
              "      <th>29</th>\n",
              "      <th>30</th>\n",
              "      <th>31</th>\n",
              "      <th>32</th>\n",
              "      <th>33</th>\n",
              "      <th>34</th>\n",
              "      <th>35</th>\n",
              "      <th>36</th>\n",
              "      <th>37</th>\n",
              "      <th>38</th>\n",
              "      <th>39</th>\n",
              "      <th>...</th>\n",
              "      <th>1961</th>\n",
              "      <th>1962</th>\n",
              "      <th>1963</th>\n",
              "      <th>1964</th>\n",
              "      <th>1965</th>\n",
              "      <th>1966</th>\n",
              "      <th>1967</th>\n",
              "      <th>1968</th>\n",
              "      <th>1969</th>\n",
              "      <th>1970</th>\n",
              "      <th>1971</th>\n",
              "      <th>1972</th>\n",
              "      <th>1973</th>\n",
              "      <th>1974</th>\n",
              "      <th>1975</th>\n",
              "      <th>1976</th>\n",
              "      <th>1977</th>\n",
              "      <th>1978</th>\n",
              "      <th>1979</th>\n",
              "      <th>1980</th>\n",
              "      <th>1981</th>\n",
              "      <th>1982</th>\n",
              "      <th>1983</th>\n",
              "      <th>1984</th>\n",
              "      <th>1985</th>\n",
              "      <th>1986</th>\n",
              "      <th>1987</th>\n",
              "      <th>1988</th>\n",
              "      <th>1989</th>\n",
              "      <th>1990</th>\n",
              "      <th>1991</th>\n",
              "      <th>1992</th>\n",
              "      <th>1993</th>\n",
              "      <th>1994</th>\n",
              "      <th>1995</th>\n",
              "      <th>1996</th>\n",
              "      <th>1997</th>\n",
              "      <th>1998</th>\n",
              "      <th>1999</th>\n",
              "      <th>2000</th>\n",
              "    </tr>\n",
              "  </thead>\n",
              "  <tbody>\n",
              "    <tr>\n",
              "      <th>0</th>\n",
              "      <td>0</td>\n",
              "      <td>0</td>\n",
              "      <td>0</td>\n",
              "      <td>0</td>\n",
              "      <td>0</td>\n",
              "      <td>0</td>\n",
              "      <td>0</td>\n",
              "      <td>0</td>\n",
              "      <td>0</td>\n",
              "      <td>0</td>\n",
              "      <td>0</td>\n",
              "      <td>0</td>\n",
              "      <td>0</td>\n",
              "      <td>0</td>\n",
              "      <td>0</td>\n",
              "      <td>0</td>\n",
              "      <td>2</td>\n",
              "      <td>0</td>\n",
              "      <td>0</td>\n",
              "      <td>0</td>\n",
              "      <td>0</td>\n",
              "      <td>0</td>\n",
              "      <td>0</td>\n",
              "      <td>0</td>\n",
              "      <td>0</td>\n",
              "      <td>0</td>\n",
              "      <td>0</td>\n",
              "      <td>0</td>\n",
              "      <td>0</td>\n",
              "      <td>1</td>\n",
              "      <td>0</td>\n",
              "      <td>0</td>\n",
              "      <td>0</td>\n",
              "      <td>0</td>\n",
              "      <td>0</td>\n",
              "      <td>0</td>\n",
              "      <td>0</td>\n",
              "      <td>0</td>\n",
              "      <td>0</td>\n",
              "      <td>0</td>\n",
              "      <td>...</td>\n",
              "      <td>0</td>\n",
              "      <td>0</td>\n",
              "      <td>0</td>\n",
              "      <td>0</td>\n",
              "      <td>0</td>\n",
              "      <td>0</td>\n",
              "      <td>0</td>\n",
              "      <td>0</td>\n",
              "      <td>0</td>\n",
              "      <td>0</td>\n",
              "      <td>0</td>\n",
              "      <td>0</td>\n",
              "      <td>0</td>\n",
              "      <td>0</td>\n",
              "      <td>0</td>\n",
              "      <td>0</td>\n",
              "      <td>0</td>\n",
              "      <td>0</td>\n",
              "      <td>0</td>\n",
              "      <td>0</td>\n",
              "      <td>0</td>\n",
              "      <td>3</td>\n",
              "      <td>0</td>\n",
              "      <td>0</td>\n",
              "      <td>0</td>\n",
              "      <td>0</td>\n",
              "      <td>0</td>\n",
              "      <td>0</td>\n",
              "      <td>0</td>\n",
              "      <td>0</td>\n",
              "      <td>0</td>\n",
              "      <td>0</td>\n",
              "      <td>0</td>\n",
              "      <td>0</td>\n",
              "      <td>0</td>\n",
              "      <td>0</td>\n",
              "      <td>0</td>\n",
              "      <td>0</td>\n",
              "      <td>0</td>\n",
              "      <td>1</td>\n",
              "    </tr>\n",
              "    <tr>\n",
              "      <th>1</th>\n",
              "      <td>1</td>\n",
              "      <td>0</td>\n",
              "      <td>0</td>\n",
              "      <td>0</td>\n",
              "      <td>0</td>\n",
              "      <td>0</td>\n",
              "      <td>0</td>\n",
              "      <td>0</td>\n",
              "      <td>0</td>\n",
              "      <td>0</td>\n",
              "      <td>2</td>\n",
              "      <td>0</td>\n",
              "      <td>0</td>\n",
              "      <td>0</td>\n",
              "      <td>0</td>\n",
              "      <td>0</td>\n",
              "      <td>0</td>\n",
              "      <td>0</td>\n",
              "      <td>0</td>\n",
              "      <td>0</td>\n",
              "      <td>0</td>\n",
              "      <td>0</td>\n",
              "      <td>0</td>\n",
              "      <td>0</td>\n",
              "      <td>0</td>\n",
              "      <td>0</td>\n",
              "      <td>0</td>\n",
              "      <td>0</td>\n",
              "      <td>0</td>\n",
              "      <td>0</td>\n",
              "      <td>1</td>\n",
              "      <td>0</td>\n",
              "      <td>0</td>\n",
              "      <td>0</td>\n",
              "      <td>0</td>\n",
              "      <td>0</td>\n",
              "      <td>0</td>\n",
              "      <td>0</td>\n",
              "      <td>0</td>\n",
              "      <td>0</td>\n",
              "      <td>...</td>\n",
              "      <td>0</td>\n",
              "      <td>0</td>\n",
              "      <td>0</td>\n",
              "      <td>0</td>\n",
              "      <td>0</td>\n",
              "      <td>0</td>\n",
              "      <td>0</td>\n",
              "      <td>0</td>\n",
              "      <td>0</td>\n",
              "      <td>0</td>\n",
              "      <td>0</td>\n",
              "      <td>0</td>\n",
              "      <td>0</td>\n",
              "      <td>0</td>\n",
              "      <td>0</td>\n",
              "      <td>0</td>\n",
              "      <td>0</td>\n",
              "      <td>0</td>\n",
              "      <td>0</td>\n",
              "      <td>0</td>\n",
              "      <td>0</td>\n",
              "      <td>0</td>\n",
              "      <td>0</td>\n",
              "      <td>0</td>\n",
              "      <td>0</td>\n",
              "      <td>0</td>\n",
              "      <td>0</td>\n",
              "      <td>0</td>\n",
              "      <td>0</td>\n",
              "      <td>0</td>\n",
              "      <td>0</td>\n",
              "      <td>0</td>\n",
              "      <td>0</td>\n",
              "      <td>0</td>\n",
              "      <td>0</td>\n",
              "      <td>0</td>\n",
              "      <td>0</td>\n",
              "      <td>0</td>\n",
              "      <td>1</td>\n",
              "      <td>1</td>\n",
              "    </tr>\n",
              "    <tr>\n",
              "      <th>2</th>\n",
              "      <td>1</td>\n",
              "      <td>0</td>\n",
              "      <td>0</td>\n",
              "      <td>0</td>\n",
              "      <td>0</td>\n",
              "      <td>0</td>\n",
              "      <td>0</td>\n",
              "      <td>0</td>\n",
              "      <td>0</td>\n",
              "      <td>0</td>\n",
              "      <td>0</td>\n",
              "      <td>0</td>\n",
              "      <td>0</td>\n",
              "      <td>0</td>\n",
              "      <td>0</td>\n",
              "      <td>0</td>\n",
              "      <td>0</td>\n",
              "      <td>0</td>\n",
              "      <td>0</td>\n",
              "      <td>0</td>\n",
              "      <td>0</td>\n",
              "      <td>0</td>\n",
              "      <td>0</td>\n",
              "      <td>0</td>\n",
              "      <td>0</td>\n",
              "      <td>0</td>\n",
              "      <td>0</td>\n",
              "      <td>0</td>\n",
              "      <td>0</td>\n",
              "      <td>0</td>\n",
              "      <td>0</td>\n",
              "      <td>0</td>\n",
              "      <td>0</td>\n",
              "      <td>0</td>\n",
              "      <td>0</td>\n",
              "      <td>0</td>\n",
              "      <td>0</td>\n",
              "      <td>0</td>\n",
              "      <td>0</td>\n",
              "      <td>0</td>\n",
              "      <td>...</td>\n",
              "      <td>0</td>\n",
              "      <td>0</td>\n",
              "      <td>0</td>\n",
              "      <td>0</td>\n",
              "      <td>0</td>\n",
              "      <td>0</td>\n",
              "      <td>0</td>\n",
              "      <td>0</td>\n",
              "      <td>0</td>\n",
              "      <td>0</td>\n",
              "      <td>0</td>\n",
              "      <td>0</td>\n",
              "      <td>0</td>\n",
              "      <td>0</td>\n",
              "      <td>0</td>\n",
              "      <td>0</td>\n",
              "      <td>0</td>\n",
              "      <td>0</td>\n",
              "      <td>0</td>\n",
              "      <td>0</td>\n",
              "      <td>0</td>\n",
              "      <td>0</td>\n",
              "      <td>0</td>\n",
              "      <td>0</td>\n",
              "      <td>0</td>\n",
              "      <td>0</td>\n",
              "      <td>0</td>\n",
              "      <td>0</td>\n",
              "      <td>0</td>\n",
              "      <td>0</td>\n",
              "      <td>0</td>\n",
              "      <td>0</td>\n",
              "      <td>0</td>\n",
              "      <td>0</td>\n",
              "      <td>0</td>\n",
              "      <td>0</td>\n",
              "      <td>0</td>\n",
              "      <td>0</td>\n",
              "      <td>0</td>\n",
              "      <td>1</td>\n",
              "    </tr>\n",
              "    <tr>\n",
              "      <th>3</th>\n",
              "      <td>0</td>\n",
              "      <td>0</td>\n",
              "      <td>0</td>\n",
              "      <td>0</td>\n",
              "      <td>0</td>\n",
              "      <td>0</td>\n",
              "      <td>0</td>\n",
              "      <td>0</td>\n",
              "      <td>0</td>\n",
              "      <td>0</td>\n",
              "      <td>0</td>\n",
              "      <td>0</td>\n",
              "      <td>0</td>\n",
              "      <td>0</td>\n",
              "      <td>0</td>\n",
              "      <td>0</td>\n",
              "      <td>0</td>\n",
              "      <td>0</td>\n",
              "      <td>0</td>\n",
              "      <td>0</td>\n",
              "      <td>0</td>\n",
              "      <td>0</td>\n",
              "      <td>0</td>\n",
              "      <td>0</td>\n",
              "      <td>0</td>\n",
              "      <td>0</td>\n",
              "      <td>0</td>\n",
              "      <td>0</td>\n",
              "      <td>0</td>\n",
              "      <td>0</td>\n",
              "      <td>0</td>\n",
              "      <td>0</td>\n",
              "      <td>1</td>\n",
              "      <td>0</td>\n",
              "      <td>0</td>\n",
              "      <td>0</td>\n",
              "      <td>0</td>\n",
              "      <td>0</td>\n",
              "      <td>0</td>\n",
              "      <td>0</td>\n",
              "      <td>...</td>\n",
              "      <td>0</td>\n",
              "      <td>0</td>\n",
              "      <td>0</td>\n",
              "      <td>0</td>\n",
              "      <td>0</td>\n",
              "      <td>0</td>\n",
              "      <td>0</td>\n",
              "      <td>0</td>\n",
              "      <td>0</td>\n",
              "      <td>0</td>\n",
              "      <td>0</td>\n",
              "      <td>0</td>\n",
              "      <td>0</td>\n",
              "      <td>0</td>\n",
              "      <td>0</td>\n",
              "      <td>0</td>\n",
              "      <td>0</td>\n",
              "      <td>0</td>\n",
              "      <td>0</td>\n",
              "      <td>0</td>\n",
              "      <td>0</td>\n",
              "      <td>0</td>\n",
              "      <td>0</td>\n",
              "      <td>0</td>\n",
              "      <td>0</td>\n",
              "      <td>0</td>\n",
              "      <td>0</td>\n",
              "      <td>0</td>\n",
              "      <td>0</td>\n",
              "      <td>0</td>\n",
              "      <td>0</td>\n",
              "      <td>1</td>\n",
              "      <td>0</td>\n",
              "      <td>0</td>\n",
              "      <td>0</td>\n",
              "      <td>0</td>\n",
              "      <td>0</td>\n",
              "      <td>0</td>\n",
              "      <td>0</td>\n",
              "      <td>1</td>\n",
              "    </tr>\n",
              "    <tr>\n",
              "      <th>4</th>\n",
              "      <td>1</td>\n",
              "      <td>0</td>\n",
              "      <td>0</td>\n",
              "      <td>0</td>\n",
              "      <td>0</td>\n",
              "      <td>0</td>\n",
              "      <td>0</td>\n",
              "      <td>0</td>\n",
              "      <td>0</td>\n",
              "      <td>0</td>\n",
              "      <td>0</td>\n",
              "      <td>0</td>\n",
              "      <td>0</td>\n",
              "      <td>0</td>\n",
              "      <td>0</td>\n",
              "      <td>0</td>\n",
              "      <td>0</td>\n",
              "      <td>0</td>\n",
              "      <td>0</td>\n",
              "      <td>0</td>\n",
              "      <td>0</td>\n",
              "      <td>0</td>\n",
              "      <td>0</td>\n",
              "      <td>0</td>\n",
              "      <td>0</td>\n",
              "      <td>0</td>\n",
              "      <td>0</td>\n",
              "      <td>0</td>\n",
              "      <td>0</td>\n",
              "      <td>0</td>\n",
              "      <td>0</td>\n",
              "      <td>0</td>\n",
              "      <td>0</td>\n",
              "      <td>0</td>\n",
              "      <td>0</td>\n",
              "      <td>0</td>\n",
              "      <td>0</td>\n",
              "      <td>0</td>\n",
              "      <td>0</td>\n",
              "      <td>0</td>\n",
              "      <td>...</td>\n",
              "      <td>0</td>\n",
              "      <td>0</td>\n",
              "      <td>0</td>\n",
              "      <td>0</td>\n",
              "      <td>0</td>\n",
              "      <td>0</td>\n",
              "      <td>0</td>\n",
              "      <td>0</td>\n",
              "      <td>0</td>\n",
              "      <td>0</td>\n",
              "      <td>0</td>\n",
              "      <td>0</td>\n",
              "      <td>0</td>\n",
              "      <td>2</td>\n",
              "      <td>0</td>\n",
              "      <td>0</td>\n",
              "      <td>0</td>\n",
              "      <td>0</td>\n",
              "      <td>0</td>\n",
              "      <td>0</td>\n",
              "      <td>0</td>\n",
              "      <td>0</td>\n",
              "      <td>0</td>\n",
              "      <td>0</td>\n",
              "      <td>0</td>\n",
              "      <td>0</td>\n",
              "      <td>0</td>\n",
              "      <td>0</td>\n",
              "      <td>0</td>\n",
              "      <td>0</td>\n",
              "      <td>0</td>\n",
              "      <td>0</td>\n",
              "      <td>0</td>\n",
              "      <td>0</td>\n",
              "      <td>0</td>\n",
              "      <td>0</td>\n",
              "      <td>0</td>\n",
              "      <td>0</td>\n",
              "      <td>0</td>\n",
              "      <td>1</td>\n",
              "    </tr>\n",
              "    <tr>\n",
              "      <th>...</th>\n",
              "      <td>...</td>\n",
              "      <td>...</td>\n",
              "      <td>...</td>\n",
              "      <td>...</td>\n",
              "      <td>...</td>\n",
              "      <td>...</td>\n",
              "      <td>...</td>\n",
              "      <td>...</td>\n",
              "      <td>...</td>\n",
              "      <td>...</td>\n",
              "      <td>...</td>\n",
              "      <td>...</td>\n",
              "      <td>...</td>\n",
              "      <td>...</td>\n",
              "      <td>...</td>\n",
              "      <td>...</td>\n",
              "      <td>...</td>\n",
              "      <td>...</td>\n",
              "      <td>...</td>\n",
              "      <td>...</td>\n",
              "      <td>...</td>\n",
              "      <td>...</td>\n",
              "      <td>...</td>\n",
              "      <td>...</td>\n",
              "      <td>...</td>\n",
              "      <td>...</td>\n",
              "      <td>...</td>\n",
              "      <td>...</td>\n",
              "      <td>...</td>\n",
              "      <td>...</td>\n",
              "      <td>...</td>\n",
              "      <td>...</td>\n",
              "      <td>...</td>\n",
              "      <td>...</td>\n",
              "      <td>...</td>\n",
              "      <td>...</td>\n",
              "      <td>...</td>\n",
              "      <td>...</td>\n",
              "      <td>...</td>\n",
              "      <td>...</td>\n",
              "      <td>...</td>\n",
              "      <td>...</td>\n",
              "      <td>...</td>\n",
              "      <td>...</td>\n",
              "      <td>...</td>\n",
              "      <td>...</td>\n",
              "      <td>...</td>\n",
              "      <td>...</td>\n",
              "      <td>...</td>\n",
              "      <td>...</td>\n",
              "      <td>...</td>\n",
              "      <td>...</td>\n",
              "      <td>...</td>\n",
              "      <td>...</td>\n",
              "      <td>...</td>\n",
              "      <td>...</td>\n",
              "      <td>...</td>\n",
              "      <td>...</td>\n",
              "      <td>...</td>\n",
              "      <td>...</td>\n",
              "      <td>...</td>\n",
              "      <td>...</td>\n",
              "      <td>...</td>\n",
              "      <td>...</td>\n",
              "      <td>...</td>\n",
              "      <td>...</td>\n",
              "      <td>...</td>\n",
              "      <td>...</td>\n",
              "      <td>...</td>\n",
              "      <td>...</td>\n",
              "      <td>...</td>\n",
              "      <td>...</td>\n",
              "      <td>...</td>\n",
              "      <td>...</td>\n",
              "      <td>...</td>\n",
              "      <td>...</td>\n",
              "      <td>...</td>\n",
              "      <td>...</td>\n",
              "      <td>...</td>\n",
              "      <td>...</td>\n",
              "      <td>...</td>\n",
              "    </tr>\n",
              "    <tr>\n",
              "      <th>5167</th>\n",
              "      <td>0</td>\n",
              "      <td>0</td>\n",
              "      <td>0</td>\n",
              "      <td>0</td>\n",
              "      <td>0</td>\n",
              "      <td>0</td>\n",
              "      <td>0</td>\n",
              "      <td>0</td>\n",
              "      <td>4</td>\n",
              "      <td>0</td>\n",
              "      <td>0</td>\n",
              "      <td>0</td>\n",
              "      <td>0</td>\n",
              "      <td>0</td>\n",
              "      <td>0</td>\n",
              "      <td>0</td>\n",
              "      <td>0</td>\n",
              "      <td>0</td>\n",
              "      <td>0</td>\n",
              "      <td>0</td>\n",
              "      <td>0</td>\n",
              "      <td>0</td>\n",
              "      <td>0</td>\n",
              "      <td>0</td>\n",
              "      <td>0</td>\n",
              "      <td>0</td>\n",
              "      <td>1</td>\n",
              "      <td>2</td>\n",
              "      <td>0</td>\n",
              "      <td>0</td>\n",
              "      <td>0</td>\n",
              "      <td>0</td>\n",
              "      <td>0</td>\n",
              "      <td>0</td>\n",
              "      <td>0</td>\n",
              "      <td>0</td>\n",
              "      <td>0</td>\n",
              "      <td>0</td>\n",
              "      <td>0</td>\n",
              "      <td>1</td>\n",
              "      <td>...</td>\n",
              "      <td>0</td>\n",
              "      <td>0</td>\n",
              "      <td>0</td>\n",
              "      <td>0</td>\n",
              "      <td>0</td>\n",
              "      <td>0</td>\n",
              "      <td>0</td>\n",
              "      <td>0</td>\n",
              "      <td>0</td>\n",
              "      <td>0</td>\n",
              "      <td>0</td>\n",
              "      <td>0</td>\n",
              "      <td>0</td>\n",
              "      <td>0</td>\n",
              "      <td>0</td>\n",
              "      <td>0</td>\n",
              "      <td>0</td>\n",
              "      <td>0</td>\n",
              "      <td>0</td>\n",
              "      <td>0</td>\n",
              "      <td>0</td>\n",
              "      <td>0</td>\n",
              "      <td>0</td>\n",
              "      <td>0</td>\n",
              "      <td>0</td>\n",
              "      <td>0</td>\n",
              "      <td>0</td>\n",
              "      <td>0</td>\n",
              "      <td>0</td>\n",
              "      <td>0</td>\n",
              "      <td>0</td>\n",
              "      <td>0</td>\n",
              "      <td>0</td>\n",
              "      <td>0</td>\n",
              "      <td>0</td>\n",
              "      <td>0</td>\n",
              "      <td>0</td>\n",
              "      <td>0</td>\n",
              "      <td>0</td>\n",
              "      <td>0</td>\n",
              "    </tr>\n",
              "    <tr>\n",
              "      <th>5168</th>\n",
              "      <td>0</td>\n",
              "      <td>0</td>\n",
              "      <td>0</td>\n",
              "      <td>0</td>\n",
              "      <td>3</td>\n",
              "      <td>4</td>\n",
              "      <td>0</td>\n",
              "      <td>0</td>\n",
              "      <td>0</td>\n",
              "      <td>0</td>\n",
              "      <td>0</td>\n",
              "      <td>0</td>\n",
              "      <td>0</td>\n",
              "      <td>0</td>\n",
              "      <td>1</td>\n",
              "      <td>0</td>\n",
              "      <td>0</td>\n",
              "      <td>0</td>\n",
              "      <td>0</td>\n",
              "      <td>0</td>\n",
              "      <td>0</td>\n",
              "      <td>0</td>\n",
              "      <td>0</td>\n",
              "      <td>0</td>\n",
              "      <td>0</td>\n",
              "      <td>0</td>\n",
              "      <td>3</td>\n",
              "      <td>4</td>\n",
              "      <td>0</td>\n",
              "      <td>0</td>\n",
              "      <td>0</td>\n",
              "      <td>0</td>\n",
              "      <td>0</td>\n",
              "      <td>0</td>\n",
              "      <td>0</td>\n",
              "      <td>0</td>\n",
              "      <td>0</td>\n",
              "      <td>0</td>\n",
              "      <td>0</td>\n",
              "      <td>0</td>\n",
              "      <td>...</td>\n",
              "      <td>0</td>\n",
              "      <td>0</td>\n",
              "      <td>0</td>\n",
              "      <td>0</td>\n",
              "      <td>0</td>\n",
              "      <td>0</td>\n",
              "      <td>0</td>\n",
              "      <td>0</td>\n",
              "      <td>0</td>\n",
              "      <td>0</td>\n",
              "      <td>0</td>\n",
              "      <td>0</td>\n",
              "      <td>0</td>\n",
              "      <td>0</td>\n",
              "      <td>0</td>\n",
              "      <td>1</td>\n",
              "      <td>0</td>\n",
              "      <td>0</td>\n",
              "      <td>0</td>\n",
              "      <td>0</td>\n",
              "      <td>0</td>\n",
              "      <td>0</td>\n",
              "      <td>0</td>\n",
              "      <td>0</td>\n",
              "      <td>0</td>\n",
              "      <td>0</td>\n",
              "      <td>0</td>\n",
              "      <td>0</td>\n",
              "      <td>0</td>\n",
              "      <td>0</td>\n",
              "      <td>0</td>\n",
              "      <td>0</td>\n",
              "      <td>0</td>\n",
              "      <td>0</td>\n",
              "      <td>0</td>\n",
              "      <td>0</td>\n",
              "      <td>0</td>\n",
              "      <td>0</td>\n",
              "      <td>0</td>\n",
              "      <td>0</td>\n",
              "    </tr>\n",
              "    <tr>\n",
              "      <th>5169</th>\n",
              "      <td>0</td>\n",
              "      <td>0</td>\n",
              "      <td>0</td>\n",
              "      <td>0</td>\n",
              "      <td>1</td>\n",
              "      <td>0</td>\n",
              "      <td>0</td>\n",
              "      <td>0</td>\n",
              "      <td>1</td>\n",
              "      <td>0</td>\n",
              "      <td>0</td>\n",
              "      <td>0</td>\n",
              "      <td>0</td>\n",
              "      <td>0</td>\n",
              "      <td>1</td>\n",
              "      <td>0</td>\n",
              "      <td>0</td>\n",
              "      <td>0</td>\n",
              "      <td>0</td>\n",
              "      <td>0</td>\n",
              "      <td>0</td>\n",
              "      <td>0</td>\n",
              "      <td>0</td>\n",
              "      <td>0</td>\n",
              "      <td>0</td>\n",
              "      <td>1</td>\n",
              "      <td>0</td>\n",
              "      <td>0</td>\n",
              "      <td>0</td>\n",
              "      <td>0</td>\n",
              "      <td>0</td>\n",
              "      <td>0</td>\n",
              "      <td>0</td>\n",
              "      <td>0</td>\n",
              "      <td>0</td>\n",
              "      <td>0</td>\n",
              "      <td>0</td>\n",
              "      <td>0</td>\n",
              "      <td>0</td>\n",
              "      <td>0</td>\n",
              "      <td>...</td>\n",
              "      <td>0</td>\n",
              "      <td>0</td>\n",
              "      <td>0</td>\n",
              "      <td>0</td>\n",
              "      <td>0</td>\n",
              "      <td>0</td>\n",
              "      <td>0</td>\n",
              "      <td>0</td>\n",
              "      <td>0</td>\n",
              "      <td>0</td>\n",
              "      <td>0</td>\n",
              "      <td>0</td>\n",
              "      <td>0</td>\n",
              "      <td>0</td>\n",
              "      <td>0</td>\n",
              "      <td>0</td>\n",
              "      <td>0</td>\n",
              "      <td>0</td>\n",
              "      <td>0</td>\n",
              "      <td>0</td>\n",
              "      <td>0</td>\n",
              "      <td>0</td>\n",
              "      <td>0</td>\n",
              "      <td>0</td>\n",
              "      <td>0</td>\n",
              "      <td>0</td>\n",
              "      <td>0</td>\n",
              "      <td>0</td>\n",
              "      <td>0</td>\n",
              "      <td>0</td>\n",
              "      <td>0</td>\n",
              "      <td>0</td>\n",
              "      <td>0</td>\n",
              "      <td>0</td>\n",
              "      <td>0</td>\n",
              "      <td>0</td>\n",
              "      <td>0</td>\n",
              "      <td>0</td>\n",
              "      <td>0</td>\n",
              "      <td>0</td>\n",
              "    </tr>\n",
              "    <tr>\n",
              "      <th>5170</th>\n",
              "      <td>0</td>\n",
              "      <td>0</td>\n",
              "      <td>0</td>\n",
              "      <td>0</td>\n",
              "      <td>0</td>\n",
              "      <td>0</td>\n",
              "      <td>0</td>\n",
              "      <td>0</td>\n",
              "      <td>0</td>\n",
              "      <td>0</td>\n",
              "      <td>0</td>\n",
              "      <td>0</td>\n",
              "      <td>0</td>\n",
              "      <td>0</td>\n",
              "      <td>0</td>\n",
              "      <td>1</td>\n",
              "      <td>0</td>\n",
              "      <td>0</td>\n",
              "      <td>0</td>\n",
              "      <td>0</td>\n",
              "      <td>0</td>\n",
              "      <td>0</td>\n",
              "      <td>0</td>\n",
              "      <td>0</td>\n",
              "      <td>0</td>\n",
              "      <td>1</td>\n",
              "      <td>0</td>\n",
              "      <td>0</td>\n",
              "      <td>0</td>\n",
              "      <td>0</td>\n",
              "      <td>0</td>\n",
              "      <td>0</td>\n",
              "      <td>0</td>\n",
              "      <td>0</td>\n",
              "      <td>0</td>\n",
              "      <td>0</td>\n",
              "      <td>0</td>\n",
              "      <td>0</td>\n",
              "      <td>0</td>\n",
              "      <td>3</td>\n",
              "      <td>...</td>\n",
              "      <td>0</td>\n",
              "      <td>0</td>\n",
              "      <td>0</td>\n",
              "      <td>0</td>\n",
              "      <td>0</td>\n",
              "      <td>1</td>\n",
              "      <td>0</td>\n",
              "      <td>0</td>\n",
              "      <td>0</td>\n",
              "      <td>0</td>\n",
              "      <td>0</td>\n",
              "      <td>0</td>\n",
              "      <td>0</td>\n",
              "      <td>0</td>\n",
              "      <td>0</td>\n",
              "      <td>1</td>\n",
              "      <td>0</td>\n",
              "      <td>0</td>\n",
              "      <td>0</td>\n",
              "      <td>0</td>\n",
              "      <td>0</td>\n",
              "      <td>0</td>\n",
              "      <td>0</td>\n",
              "      <td>0</td>\n",
              "      <td>0</td>\n",
              "      <td>0</td>\n",
              "      <td>0</td>\n",
              "      <td>0</td>\n",
              "      <td>0</td>\n",
              "      <td>0</td>\n",
              "      <td>0</td>\n",
              "      <td>0</td>\n",
              "      <td>0</td>\n",
              "      <td>0</td>\n",
              "      <td>0</td>\n",
              "      <td>0</td>\n",
              "      <td>0</td>\n",
              "      <td>0</td>\n",
              "      <td>0</td>\n",
              "      <td>0</td>\n",
              "    </tr>\n",
              "    <tr>\n",
              "      <th>5171</th>\n",
              "      <td>0</td>\n",
              "      <td>0</td>\n",
              "      <td>0</td>\n",
              "      <td>0</td>\n",
              "      <td>4</td>\n",
              "      <td>0</td>\n",
              "      <td>0</td>\n",
              "      <td>0</td>\n",
              "      <td>4</td>\n",
              "      <td>0</td>\n",
              "      <td>0</td>\n",
              "      <td>0</td>\n",
              "      <td>0</td>\n",
              "      <td>0</td>\n",
              "      <td>1</td>\n",
              "      <td>2</td>\n",
              "      <td>0</td>\n",
              "      <td>0</td>\n",
              "      <td>0</td>\n",
              "      <td>0</td>\n",
              "      <td>0</td>\n",
              "      <td>0</td>\n",
              "      <td>0</td>\n",
              "      <td>0</td>\n",
              "      <td>0</td>\n",
              "      <td>3</td>\n",
              "      <td>0</td>\n",
              "      <td>0</td>\n",
              "      <td>0</td>\n",
              "      <td>0</td>\n",
              "      <td>0</td>\n",
              "      <td>0</td>\n",
              "      <td>0</td>\n",
              "      <td>0</td>\n",
              "      <td>0</td>\n",
              "      <td>0</td>\n",
              "      <td>0</td>\n",
              "      <td>0</td>\n",
              "      <td>0</td>\n",
              "      <td>1</td>\n",
              "      <td>...</td>\n",
              "      <td>0</td>\n",
              "      <td>0</td>\n",
              "      <td>0</td>\n",
              "      <td>0</td>\n",
              "      <td>0</td>\n",
              "      <td>0</td>\n",
              "      <td>0</td>\n",
              "      <td>0</td>\n",
              "      <td>0</td>\n",
              "      <td>0</td>\n",
              "      <td>0</td>\n",
              "      <td>0</td>\n",
              "      <td>0</td>\n",
              "      <td>0</td>\n",
              "      <td>0</td>\n",
              "      <td>0</td>\n",
              "      <td>0</td>\n",
              "      <td>0</td>\n",
              "      <td>0</td>\n",
              "      <td>0</td>\n",
              "      <td>0</td>\n",
              "      <td>0</td>\n",
              "      <td>0</td>\n",
              "      <td>0</td>\n",
              "      <td>0</td>\n",
              "      <td>0</td>\n",
              "      <td>0</td>\n",
              "      <td>0</td>\n",
              "      <td>0</td>\n",
              "      <td>0</td>\n",
              "      <td>0</td>\n",
              "      <td>0</td>\n",
              "      <td>0</td>\n",
              "      <td>0</td>\n",
              "      <td>0</td>\n",
              "      <td>0</td>\n",
              "      <td>0</td>\n",
              "      <td>0</td>\n",
              "      <td>0</td>\n",
              "      <td>0</td>\n",
              "    </tr>\n",
              "  </tbody>\n",
              "</table>\n",
              "<p>5172 rows × 2001 columns</p>\n",
              "</div>"
            ],
            "text/plain": [
              "      0     1     2     3     4     5     ...  1995  1996  1997  1998  1999  2000\n",
              "0        0     0     0     0     0     0  ...     0     0     0     0     0     1\n",
              "1        1     0     0     0     0     0  ...     0     0     0     0     1     1\n",
              "2        1     0     0     0     0     0  ...     0     0     0     0     0     1\n",
              "3        0     0     0     0     0     0  ...     0     0     0     0     0     1\n",
              "4        1     0     0     0     0     0  ...     0     0     0     0     0     1\n",
              "...    ...   ...   ...   ...   ...   ...  ...   ...   ...   ...   ...   ...   ...\n",
              "5167     0     0     0     0     0     0  ...     0     0     0     0     0     0\n",
              "5168     0     0     0     0     3     4  ...     0     0     0     0     0     0\n",
              "5169     0     0     0     0     1     0  ...     0     0     0     0     0     0\n",
              "5170     0     0     0     0     0     0  ...     0     0     0     0     0     0\n",
              "5171     0     0     0     0     4     0  ...     0     0     0     0     0     0\n",
              "\n",
              "[5172 rows x 2001 columns]"
            ]
          },
          "metadata": {
            "tags": []
          },
          "execution_count": 70
        }
      ]
    },
    {
      "cell_type": "code",
      "metadata": {
        "colab": {
          "base_uri": "https://localhost:8080/"
        },
        "id": "ZelNOmeYk9OU",
        "outputId": "3ae1f391-5ea3-4953-cd5d-0c259b4d16f2"
      },
      "source": [
        "spam_df.isnull().sum().max()"
      ],
      "execution_count": null,
      "outputs": [
        {
          "output_type": "execute_result",
          "data": {
            "text/plain": [
              "0"
            ]
          },
          "metadata": {
            "tags": []
          },
          "execution_count": 71
        }
      ]
    },
    {
      "cell_type": "code",
      "metadata": {
        "id": "X_k-uSqrSFud"
      },
      "source": [
        "from sklearn.preprocessing import MinMaxScaler"
      ],
      "execution_count": null,
      "outputs": []
    },
    {
      "cell_type": "code",
      "metadata": {
        "id": "pBAQaVIjVdi8"
      },
      "source": [
        ""
      ],
      "execution_count": null,
      "outputs": []
    },
    {
      "cell_type": "code",
      "metadata": {
        "id": "9YXjaWnjjPf5"
      },
      "source": [
        "X_train, X_test, y_train, y_test = train_test_split(spam_df.iloc[:,:-1], spam_df.iloc[:,-1], random_state = 100)"
      ],
      "execution_count": null,
      "outputs": []
    },
    {
      "cell_type": "code",
      "metadata": {
        "id": "FQkpRwdcmpXI"
      },
      "source": [
        "escalar = True\n",
        "score_ent = np.zeros(50)\n",
        "score_val = np.zeros(50)\n",
        "modelos = []\n",
        "for j,k,l, X_ent, y_ent, X_val, y_val in vcrep_kpart(X_train.values, y_train.values, r=10, k=5):\n",
        "  model = RegLogMult()\n",
        "  score_ent[l], score_val[l], es = entrenar_logistica(model, X_ent, y_ent,\n",
        "                                                            X_val, y_val, escalar)\n",
        "  X_test_new = es.transform(X_test) if escalar else es.transform(X_test)\n",
        "  ones_test = np.ones((X_test_new.shape[0], 1))\n",
        "  X_test_new = np.column_stack((ones_test, X_test_new))\n",
        "  modelos.append(model)\n",
        "\n"
      ],
      "execution_count": null,
      "outputs": []
    },
    {
      "cell_type": "code",
      "metadata": {
        "id": "iLcmX1Dv4EZw"
      },
      "source": [
        "score_ent = [0] * 50\n",
        "score_val = [0] * 50\n",
        "modelos = []\n",
        "for j,k,l, X_ent, y_ent, X_val, y_val in vcrep_kpart(X_train.values, y_train.values, r=10, k=5):\n",
        "  model = MultinomialNB()\n",
        "  score_ent[l], score_val[l]= entrenar_bayes(model, X_ent, y_ent, X_val, y_val)\n",
        "  modelos.append(model)\n",
        "\n",
        "\n",
        "\n"
      ],
      "execution_count": null,
      "outputs": []
    },
    {
      "cell_type": "code",
      "metadata": {
        "id": "JumXsT3-iBYi"
      },
      "source": [
        "cancer_df = pd.read_csv(\"https://raw.githubusercontent.com/gibranfp/CursoAprendizajeAutomatizado/master/data/breast-cancer-wisconsin.data\", header = None, na_values=\"?\")"
      ],
      "execution_count": null,
      "outputs": []
    },
    {
      "cell_type": "markdown",
      "metadata": {
        "id": "3mRxjgSniUSr"
      },
      "source": [
        " #  Attribute                     Domain\n",
        "   -- -----------------------------------------\n",
        "   1. Sample code number            id number\n",
        "   2. Clump Thickness               1 - 10\n",
        "   3. Uniformity of Cell Size       1 - 10\n",
        "   4. Uniformity of Cell Shape      1 - 10\n",
        "   5. Marginal Adhesion             1 - 10\n",
        "   6. Single Epithelial Cell Size   1 - 10\n",
        "   7. Bare Nuclei                   1 - 10\n",
        "   8. Bland Chromatin               1 - 10\n",
        "   9. Normal Nucleoli               1 - 10\n",
        "  10. Mitoses                       1 - 10\n",
        "  11. Class:                        (2 for benign, 4 for malignant)"
      ]
    },
    {
      "cell_type": "code",
      "metadata": {
        "colab": {
          "base_uri": "https://localhost:8080/",
          "height": 195
        },
        "id": "3eeh2YYkiWcw",
        "outputId": "cb90c141-a8a8-4c1c-e6dd-15d6cc818f15"
      },
      "source": [
        "cancer_df.head()"
      ],
      "execution_count": null,
      "outputs": [
        {
          "output_type": "execute_result",
          "data": {
            "text/html": [
              "<div>\n",
              "<style scoped>\n",
              "    .dataframe tbody tr th:only-of-type {\n",
              "        vertical-align: middle;\n",
              "    }\n",
              "\n",
              "    .dataframe tbody tr th {\n",
              "        vertical-align: top;\n",
              "    }\n",
              "\n",
              "    .dataframe thead th {\n",
              "        text-align: right;\n",
              "    }\n",
              "</style>\n",
              "<table border=\"1\" class=\"dataframe\">\n",
              "  <thead>\n",
              "    <tr style=\"text-align: right;\">\n",
              "      <th></th>\n",
              "      <th>0</th>\n",
              "      <th>1</th>\n",
              "      <th>2</th>\n",
              "      <th>3</th>\n",
              "      <th>4</th>\n",
              "      <th>5</th>\n",
              "      <th>6</th>\n",
              "      <th>7</th>\n",
              "      <th>8</th>\n",
              "      <th>9</th>\n",
              "      <th>10</th>\n",
              "    </tr>\n",
              "  </thead>\n",
              "  <tbody>\n",
              "    <tr>\n",
              "      <th>0</th>\n",
              "      <td>1000025</td>\n",
              "      <td>5</td>\n",
              "      <td>1</td>\n",
              "      <td>1</td>\n",
              "      <td>1</td>\n",
              "      <td>2</td>\n",
              "      <td>1.0</td>\n",
              "      <td>3</td>\n",
              "      <td>1</td>\n",
              "      <td>1</td>\n",
              "      <td>2</td>\n",
              "    </tr>\n",
              "    <tr>\n",
              "      <th>1</th>\n",
              "      <td>1002945</td>\n",
              "      <td>5</td>\n",
              "      <td>4</td>\n",
              "      <td>4</td>\n",
              "      <td>5</td>\n",
              "      <td>7</td>\n",
              "      <td>10.0</td>\n",
              "      <td>3</td>\n",
              "      <td>2</td>\n",
              "      <td>1</td>\n",
              "      <td>2</td>\n",
              "    </tr>\n",
              "    <tr>\n",
              "      <th>2</th>\n",
              "      <td>1015425</td>\n",
              "      <td>3</td>\n",
              "      <td>1</td>\n",
              "      <td>1</td>\n",
              "      <td>1</td>\n",
              "      <td>2</td>\n",
              "      <td>2.0</td>\n",
              "      <td>3</td>\n",
              "      <td>1</td>\n",
              "      <td>1</td>\n",
              "      <td>2</td>\n",
              "    </tr>\n",
              "    <tr>\n",
              "      <th>3</th>\n",
              "      <td>1016277</td>\n",
              "      <td>6</td>\n",
              "      <td>8</td>\n",
              "      <td>8</td>\n",
              "      <td>1</td>\n",
              "      <td>3</td>\n",
              "      <td>4.0</td>\n",
              "      <td>3</td>\n",
              "      <td>7</td>\n",
              "      <td>1</td>\n",
              "      <td>2</td>\n",
              "    </tr>\n",
              "    <tr>\n",
              "      <th>4</th>\n",
              "      <td>1017023</td>\n",
              "      <td>4</td>\n",
              "      <td>1</td>\n",
              "      <td>1</td>\n",
              "      <td>3</td>\n",
              "      <td>2</td>\n",
              "      <td>1.0</td>\n",
              "      <td>3</td>\n",
              "      <td>1</td>\n",
              "      <td>1</td>\n",
              "      <td>2</td>\n",
              "    </tr>\n",
              "  </tbody>\n",
              "</table>\n",
              "</div>"
            ],
            "text/plain": [
              "        0   1   2   3   4   5     6   7   8   9   10\n",
              "0  1000025   5   1   1   1   2   1.0   3   1   1   2\n",
              "1  1002945   5   4   4   5   7  10.0   3   2   1   2\n",
              "2  1015425   3   1   1   1   2   2.0   3   1   1   2\n",
              "3  1016277   6   8   8   1   3   4.0   3   7   1   2\n",
              "4  1017023   4   1   1   3   2   1.0   3   1   1   2"
            ]
          },
          "metadata": {
            "tags": []
          },
          "execution_count": 125
        }
      ]
    },
    {
      "cell_type": "code",
      "metadata": {
        "colab": {
          "base_uri": "https://localhost:8080/",
          "height": 128
        },
        "id": "brz1XhbNiTPn",
        "outputId": "92dd4a50-9514-4bdd-fc8e-e7fb4e730771"
      },
      "source": [
        " #  Attribute                     Domain\n",
        "   -- -----------------------------------------\n",
        "   1. Sample code number            id number\n",
        "   2. Clump Thickness               1 - 10\n",
        "   3. Uniformity of Cell Size       1 - 10\n",
        "   4. Uniformity of Cell Shape      1 - 10\n",
        "   5. Marginal Adhesion             1 - 10\n",
        "   6. Single Epithelial Cell Size   1 - 10\n",
        "   7. Bare Nuclei                   1 - 10\n",
        "   8. Bland Chromatin               1 - 10\n",
        "   9. Normal Nucleoli               1 - 10\n",
        "  10. Mitoses                       1 - 10\n",
        "  11. Class:                        (2 for benign, 4 for malignant)"
      ],
      "execution_count": null,
      "outputs": [
        {
          "output_type": "error",
          "ename": "IndentationError",
          "evalue": "ignored",
          "traceback": [
            "\u001b[0;36m  File \u001b[0;32m\"<ipython-input-126-c1a84de06931>\"\u001b[0;36m, line \u001b[0;32m2\u001b[0m\n\u001b[0;31m    -- -----------------------------------------\u001b[0m\n\u001b[0m    ^\u001b[0m\n\u001b[0;31mIndentationError\u001b[0m\u001b[0;31m:\u001b[0m unexpected indent\n"
          ]
        }
      ]
    },
    {
      "cell_type": "code",
      "metadata": {
        "colab": {
          "base_uri": "https://localhost:8080/"
        },
        "id": "VCEolZFMiwl0",
        "outputId": "71f6b1b8-43bb-4fa3-e0e1-7427ec08f835"
      },
      "source": [
        "cancer_df.isnull().sum()"
      ],
      "execution_count": null,
      "outputs": [
        {
          "output_type": "execute_result",
          "data": {
            "text/plain": [
              "0      0\n",
              "1      0\n",
              "2      0\n",
              "3      0\n",
              "4      0\n",
              "5      0\n",
              "6     16\n",
              "7      0\n",
              "8      0\n",
              "9      0\n",
              "10     0\n",
              "dtype: int64"
            ]
          },
          "metadata": {
            "tags": []
          },
          "execution_count": 129
        }
      ]
    },
    {
      "cell_type": "code",
      "metadata": {
        "id": "4j3ca-XUiy-n"
      },
      "source": [
        "cancer_df.dropna(inplace=True)\n",
        "cancer_df.reset_index(inplace = True)"
      ],
      "execution_count": null,
      "outputs": []
    },
    {
      "cell_type": "code",
      "metadata": {
        "id": "y5UrZ3MmjTu9"
      },
      "source": [
        "cancer_df.loc[:,10].replace({2:0, 4:1}, inplace = True)"
      ],
      "execution_count": null,
      "outputs": []
    },
    {
      "cell_type": "code",
      "metadata": {
        "id": "WfQ31Z0_iKxK"
      },
      "source": [
        "X_train, X_test, y_train, y_test = train_test_split(cancer_df.iloc[:,:-1], cancer_df.iloc[:,-1], random_state = 100)"
      ],
      "execution_count": null,
      "outputs": []
    },
    {
      "cell_type": "code",
      "metadata": {
        "colab": {
          "base_uri": "https://localhost:8080/"
        },
        "id": "3m53e-79jPNA",
        "outputId": "7ae94dc7-4b4e-43b8-d11f-e69f26f1e53f"
      },
      "source": [
        "y_test.unique()"
      ],
      "execution_count": null,
      "outputs": [
        {
          "output_type": "execute_result",
          "data": {
            "text/plain": [
              "array([0, 1])"
            ]
          },
          "metadata": {
            "tags": []
          },
          "execution_count": 151
        }
      ]
    },
    {
      "cell_type": "code",
      "metadata": {
        "id": "9V1qFXPmiJU1"
      },
      "source": [
        "escalar = True\n",
        "score_ent = np.zeros(50)\n",
        "score_val = np.zeros(50)\n",
        "modelos = []\n",
        "for j,k,l, X_ent, y_ent, X_val, y_val in vcrep_kpart(X_train.values, y_train.values, r=10, k=5):\n",
        "  model = RegLogMult()\n",
        "  score_ent[l], score_val[l], es = entrenar_logistica(model, X_ent, y_ent,\n",
        "                                                            X_val, y_val, escalar)\n",
        "  X_test_new = es.transform(X_test) if escalar else es.transform(X_test)\n",
        "  ones_test = np.ones((X_test_new.shape[0], 1))\n",
        "  X_test_new = np.column_stack((ones_test, X_test_new))\n",
        "  modelos.append(model)\n",
        "\n"
      ],
      "execution_count": null,
      "outputs": []
    },
    {
      "cell_type": "code",
      "metadata": {
        "id": "ucs8zEnti7Pl"
      },
      "source": [
        "score_ent = [0] * 50\n",
        "score_val = [0] * 50\n",
        "modelos = []\n",
        "for j,k,l, X_ent, y_ent, X_val, y_val in vcrep_kpart(X_train.values, y_train.values, r=10, k=5):\n",
        "  model = MultinomialNB()\n",
        "  score_ent[l], score_val[l]= entrenar_bayes(model, X_ent, y_ent, X_val, y_val)\n",
        "  modelos.append(model)\n",
        "\n",
        "\n",
        "\n"
      ],
      "execution_count": null,
      "outputs": []
    },
    {
      "cell_type": "code",
      "metadata": {
        "id": "it9CoYR8jqUG"
      },
      "source": [
        ""
      ],
      "execution_count": null,
      "outputs": []
    }
  ]
}